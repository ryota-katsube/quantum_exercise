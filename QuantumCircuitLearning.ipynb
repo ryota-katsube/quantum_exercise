{
  "nbformat": 4,
  "nbformat_minor": 0,
  "metadata": {
    "colab": {
      "name": "量子回路学習.ipynb",
      "provenance": [],
      "include_colab_link": true
    },
    "kernelspec": {
      "name": "python3",
      "display_name": "Python 3"
    },
    "language_info": {
      "name": "python"
    }
  },
  "cells": [
    {
      "cell_type": "markdown",
      "metadata": {
        "id": "view-in-github",
        "colab_type": "text"
      },
      "source": [
        "<a href=\"https://colab.research.google.com/github/ryota-katsube/quantum_exercise/blob/master/%E9%87%8F%E5%AD%90%E5%9B%9E%E8%B7%AF%E5%AD%A6%E7%BF%92.ipynb\" target=\"_parent\"><img src=\"https://colab.research.google.com/assets/colab-badge.svg\" alt=\"Open In Colab\"/></a>"
      ]
    },
    {
      "cell_type": "code",
      "metadata": {
        "colab": {
          "base_uri": "https://localhost:8080/"
        },
        "id": "2xlzKHhFA7-I",
        "outputId": "0658a002-658a-4166-82ce-7a72965cd944"
      },
      "source": [
        "#qiskitのインストール\n",
        "!pip install qiskit"
      ],
      "execution_count": null,
      "outputs": [
        {
          "output_type": "stream",
          "text": [
            "Requirement already satisfied: qiskit in /usr/local/lib/python3.7/dist-packages (0.29.0)\n",
            "Requirement already satisfied: qiskit-aer==0.8.2 in /usr/local/lib/python3.7/dist-packages (from qiskit) (0.8.2)\n",
            "Requirement already satisfied: qiskit-ibmq-provider==0.16.0 in /usr/local/lib/python3.7/dist-packages (from qiskit) (0.16.0)\n",
            "Requirement already satisfied: qiskit-aqua==0.9.4 in /usr/local/lib/python3.7/dist-packages (from qiskit) (0.9.4)\n",
            "Requirement already satisfied: qiskit-ignis==0.6.0 in /usr/local/lib/python3.7/dist-packages (from qiskit) (0.6.0)\n",
            "Requirement already satisfied: qiskit-terra==0.18.1 in /usr/local/lib/python3.7/dist-packages (from qiskit) (0.18.1)\n",
            "Requirement already satisfied: numpy>=1.16.3 in /usr/local/lib/python3.7/dist-packages (from qiskit-aer==0.8.2->qiskit) (1.19.5)\n",
            "Requirement already satisfied: pybind11>=2.6 in /usr/local/lib/python3.7/dist-packages (from qiskit-aer==0.8.2->qiskit) (2.7.1)\n",
            "Requirement already satisfied: scipy>=1.0 in /usr/local/lib/python3.7/dist-packages (from qiskit-aer==0.8.2->qiskit) (1.4.1)\n",
            "Requirement already satisfied: dlx<=1.0.4 in /usr/local/lib/python3.7/dist-packages (from qiskit-aqua==0.9.4->qiskit) (1.0.4)\n",
            "Requirement already satisfied: fastdtw<=0.3.4 in /usr/local/lib/python3.7/dist-packages (from qiskit-aqua==0.9.4->qiskit) (0.3.4)\n",
            "Requirement already satisfied: retworkx>=0.8.0 in /usr/local/lib/python3.7/dist-packages (from qiskit-aqua==0.9.4->qiskit) (0.10.1)\n",
            "Requirement already satisfied: scikit-learn>=0.20.0 in /usr/local/lib/python3.7/dist-packages (from qiskit-aqua==0.9.4->qiskit) (0.22.2.post1)\n",
            "Requirement already satisfied: quandl in /usr/local/lib/python3.7/dist-packages (from qiskit-aqua==0.9.4->qiskit) (3.6.1)\n",
            "Requirement already satisfied: yfinance<0.1.63 in /usr/local/lib/python3.7/dist-packages (from qiskit-aqua==0.9.4->qiskit) (0.1.62)\n",
            "Requirement already satisfied: setuptools>=40.1.0 in /usr/local/lib/python3.7/dist-packages (from qiskit-aqua==0.9.4->qiskit) (57.4.0)\n",
            "Requirement already satisfied: docplex>=2.21.207 in /usr/local/lib/python3.7/dist-packages (from qiskit-aqua==0.9.4->qiskit) (2.21.207)\n",
            "Requirement already satisfied: h5py<3.3.0 in /usr/local/lib/python3.7/dist-packages (from qiskit-aqua==0.9.4->qiskit) (3.1.0)\n",
            "Requirement already satisfied: pandas in /usr/local/lib/python3.7/dist-packages (from qiskit-aqua==0.9.4->qiskit) (1.1.5)\n",
            "Requirement already satisfied: psutil>=5 in /usr/local/lib/python3.7/dist-packages (from qiskit-aqua==0.9.4->qiskit) (5.4.8)\n",
            "Requirement already satisfied: sympy>=1.3 in /usr/local/lib/python3.7/dist-packages (from qiskit-aqua==0.9.4->qiskit) (1.7.1)\n",
            "Requirement already satisfied: python-dateutil>=2.8.0 in /usr/local/lib/python3.7/dist-packages (from qiskit-ibmq-provider==0.16.0->qiskit) (2.8.2)\n",
            "Requirement already satisfied: requests>=2.19 in /usr/local/lib/python3.7/dist-packages (from qiskit-ibmq-provider==0.16.0->qiskit) (2.23.0)\n",
            "Requirement already satisfied: urllib3>=1.21.1 in /usr/local/lib/python3.7/dist-packages (from qiskit-ibmq-provider==0.16.0->qiskit) (1.24.3)\n",
            "Requirement already satisfied: requests-ntlm>=1.1.0 in /usr/local/lib/python3.7/dist-packages (from qiskit-ibmq-provider==0.16.0->qiskit) (1.1.0)\n",
            "Requirement already satisfied: websocket-client>=1.0.1 in /usr/local/lib/python3.7/dist-packages (from qiskit-ibmq-provider==0.16.0->qiskit) (1.2.1)\n",
            "Requirement already satisfied: tweedledum<2.0,>=1.1 in /usr/local/lib/python3.7/dist-packages (from qiskit-terra==0.18.1->qiskit) (1.1.0)\n",
            "Requirement already satisfied: fastjsonschema>=2.10 in /usr/local/lib/python3.7/dist-packages (from qiskit-terra==0.18.1->qiskit) (2.15.1)\n",
            "Requirement already satisfied: dill>=0.3 in /usr/local/lib/python3.7/dist-packages (from qiskit-terra==0.18.1->qiskit) (0.3.4)\n",
            "Requirement already satisfied: symengine>0.7 in /usr/local/lib/python3.7/dist-packages (from qiskit-terra==0.18.1->qiskit) (0.7.2)\n",
            "Requirement already satisfied: python-constraint>=1.4 in /usr/local/lib/python3.7/dist-packages (from qiskit-terra==0.18.1->qiskit) (1.4.0)\n",
            "Requirement already satisfied: ply>=3.10 in /usr/local/lib/python3.7/dist-packages (from qiskit-terra==0.18.1->qiskit) (3.11)\n",
            "Requirement already satisfied: jsonschema>=2.6 in /usr/local/lib/python3.7/dist-packages (from qiskit-terra==0.18.1->qiskit) (2.6.0)\n",
            "Requirement already satisfied: six in /usr/local/lib/python3.7/dist-packages (from docplex>=2.21.207->qiskit-aqua==0.9.4->qiskit) (1.15.0)\n",
            "Requirement already satisfied: cached-property in /usr/local/lib/python3.7/dist-packages (from h5py<3.3.0->qiskit-aqua==0.9.4->qiskit) (1.5.2)\n",
            "Requirement already satisfied: chardet<4,>=3.0.2 in /usr/local/lib/python3.7/dist-packages (from requests>=2.19->qiskit-ibmq-provider==0.16.0->qiskit) (3.0.4)\n",
            "Requirement already satisfied: idna<3,>=2.5 in /usr/local/lib/python3.7/dist-packages (from requests>=2.19->qiskit-ibmq-provider==0.16.0->qiskit) (2.10)\n",
            "Requirement already satisfied: certifi>=2017.4.17 in /usr/local/lib/python3.7/dist-packages (from requests>=2.19->qiskit-ibmq-provider==0.16.0->qiskit) (2021.5.30)\n",
            "Requirement already satisfied: ntlm-auth>=1.0.2 in /usr/local/lib/python3.7/dist-packages (from requests-ntlm>=1.1.0->qiskit-ibmq-provider==0.16.0->qiskit) (1.5.0)\n",
            "Requirement already satisfied: cryptography>=1.3 in /usr/local/lib/python3.7/dist-packages (from requests-ntlm>=1.1.0->qiskit-ibmq-provider==0.16.0->qiskit) (3.4.8)\n",
            "Requirement already satisfied: cffi>=1.12 in /usr/local/lib/python3.7/dist-packages (from cryptography>=1.3->requests-ntlm>=1.1.0->qiskit-ibmq-provider==0.16.0->qiskit) (1.14.6)\n",
            "Requirement already satisfied: pycparser in /usr/local/lib/python3.7/dist-packages (from cffi>=1.12->cryptography>=1.3->requests-ntlm>=1.1.0->qiskit-ibmq-provider==0.16.0->qiskit) (2.20)\n",
            "Requirement already satisfied: joblib>=0.11 in /usr/local/lib/python3.7/dist-packages (from scikit-learn>=0.20.0->qiskit-aqua==0.9.4->qiskit) (1.0.1)\n",
            "Requirement already satisfied: mpmath>=0.19 in /usr/local/lib/python3.7/dist-packages (from sympy>=1.3->qiskit-aqua==0.9.4->qiskit) (1.2.1)\n",
            "Requirement already satisfied: lxml>=4.5.1 in /usr/local/lib/python3.7/dist-packages (from yfinance<0.1.63->qiskit-aqua==0.9.4->qiskit) (4.6.3)\n",
            "Requirement already satisfied: multitasking>=0.0.7 in /usr/local/lib/python3.7/dist-packages (from yfinance<0.1.63->qiskit-aqua==0.9.4->qiskit) (0.0.9)\n",
            "Requirement already satisfied: pytz>=2017.2 in /usr/local/lib/python3.7/dist-packages (from pandas->qiskit-aqua==0.9.4->qiskit) (2018.9)\n",
            "Requirement already satisfied: inflection>=0.3.1 in /usr/local/lib/python3.7/dist-packages (from quandl->qiskit-aqua==0.9.4->qiskit) (0.5.1)\n",
            "Requirement already satisfied: more-itertools in /usr/local/lib/python3.7/dist-packages (from quandl->qiskit-aqua==0.9.4->qiskit) (8.8.0)\n"
          ],
          "name": "stdout"
        }
      ]
    },
    {
      "cell_type": "code",
      "metadata": {
        "id": "DCp_SxaSstmw"
      },
      "source": [
        "#ライブラリのインポート\n",
        "import matplotlib.pyplot as plt\n",
        "import numpy as np\n",
        "from scipy.optimize import minimize\n",
        "from qiskit import IBMQ, Aer, assemble, transpile\n",
        "from qiskit import QuantumCircuit, ClassicalRegister, QuantumRegister\n",
        "from qiskit.providers.aer import QasmSimulator\n",
        "from qiskit.visualization import plot_histogram"
      ],
      "execution_count": null,
      "outputs": []
    },
    {
      "cell_type": "markdown",
      "metadata": {
        "id": "fVjx03iXnI45"
      },
      "source": [
        "# 量子回路学習"
      ]
    },
    {
      "cell_type": "markdown",
      "metadata": {
        "id": "3lPBT6OzqR2r"
      },
      "source": [
        "・原論文\n",
        "Kosuke Mitarai, Makoto Negoro, Masahiro Kitagawa, Keisuke Fujii Phys. Rev. A 98, 032309 (2018)\n",
        "https://arxiv.org/abs/1803.00745v3\n",
        "・御手洗さんと藤井さんによる日本語の解説記事\n",
        "https://www.jps.or.jp/books/gakkaishi/2019/09/74-09seriesAIphys1.pdf\n",
        "\n",
        " ・5ビットの量子コンピュータで実証実験した論文\n",
        " V. Havlicek et al. , “Supervised learning with quantum-enhanced feature spaces”, Nature 567, 209–212 (2019), arXiv版：https://arxiv.org/abs/1804.11326\n",
        "\n",
        "Qulacsを用いたプログラム実装の例がhttps://dojo.qulacs.org/ja/latest/notebooks/5.2_Quantum_Circuit_Learning.html に載っている"
      ]
    },
    {
      "cell_type": "markdown",
      "metadata": {
        "id": "2nwrhFFerKrW"
      },
      "source": [
        "## Qiskitを用いた実装"
      ]
    },
    {
      "cell_type": "code",
      "metadata": {
        "id": "9BApNL4jm8xG"
      },
      "source": [
        "#学習データの作成\n",
        "\n",
        "# [x_min, x_max]から, ランダムにnum_x_train個の点をとって教師データにする\n",
        "x_min = - 1.; x_max = 1.;\n",
        "num_x_train = 50\n",
        "\n",
        "# 学習したい関数\n",
        "func_to_learn = lambda x: x**2 + np.sin(x*np.pi)\n",
        "\n",
        "# 乱数のシード\n",
        "random_seed = 0\n",
        "# 乱数発生器の初期化\n",
        "np.random.seed(random_seed)"
      ],
      "execution_count": null,
      "outputs": []
    },
    {
      "cell_type": "code",
      "metadata": {
        "id": "dGt_Lpf-nt6K"
      },
      "source": [
        "x_train = x_min + (x_max - x_min) * np.random.rand(num_x_train)\n",
        "y_train = func_to_learn(x_train)"
      ],
      "execution_count": null,
      "outputs": []
    },
    {
      "cell_type": "code",
      "metadata": {
        "colab": {
          "base_uri": "https://localhost:8080/",
          "height": 265
        },
        "id": "MYkp4bAtxN7S",
        "outputId": "d2c26c87-1842-420e-fc60-964d22fece6b"
      },
      "source": [
        "#データにノイズ\n",
        "mag_noise = 0.05\n",
        "\n",
        "# 乱数のシード\n",
        "random_seed = 1\n",
        "# 乱数発生器の初期化\n",
        "np.random.seed(random_seed)\n",
        "\n",
        "y_train = y_train + mag_noise * np.random.randn(num_x_train)\n",
        "\n",
        "#データをプロット\n",
        "plt.plot(x_train, y_train, \"o\"); plt.show()"
      ],
      "execution_count": null,
      "outputs": [
        {
          "output_type": "display_data",
          "data": {
            "image/png": "[encoded data removed]",
            "text/plain": [
              "<Figure size 432x288 with 1 Axes>"
            ]
          },
          "metadata": {
            "needs_background": "light"
          }
        }
      ]
    },
    {
      "cell_type": "code",
      "metadata": {
        "id": "d6AovSDOMIm0"
      },
      "source": [
        "#データを量子状態にエンコーディングする回路\n",
        "def encoding_circ(x,nqubits):\n",
        "\n",
        "  qc = QuantumCircuit(nqubits,nqubits)\n",
        "\n",
        "  angle_y = np.arcsin(x)\n",
        "  angle_z = np.arccos(x**2)\n",
        "\n",
        "  for i in range(nqubits):\n",
        "      qc.ry(angle_y, i)\n",
        "      qc.rz(angle_z, i)\n",
        "       \n",
        "  return qc"
      ],
      "execution_count": null,
      "outputs": []
    },
    {
      "cell_type": "code",
      "metadata": {
        "colab": {
          "base_uri": "https://localhost:8080/",
          "height": 152
        },
        "id": "yeyfz9jk4lgg",
        "outputId": "1c8219ef-1edd-4e5d-88de-c4f8bfb402c9"
      },
      "source": [
        "#encodingの回路の図示\n",
        "#使う量子ビット数\n",
        "nqubits = 3\n",
        "qc = encoding_circ(0.1,nqubits)\n",
        "qc.draw()"
      ],
      "execution_count": null,
      "outputs": [
        {
          "output_type": "execute_result",
          "data": {
            "text/html": [
              "<pre style=\"word-wrap: normal;white-space: pre;background: #fff0;line-height: 1.1;font-family: &quot;Courier New&quot;,Courier,monospace\">     ┌─────────────┐┌────────────┐\n",
              "q_0: ┤ Ry(0.10017) ├┤ Rz(1.5608) ├\n",
              "     ├─────────────┤├────────────┤\n",
              "q_1: ┤ Ry(0.10017) ├┤ Rz(1.5608) ├\n",
              "     ├─────────────┤├────────────┤\n",
              "q_2: ┤ Ry(0.10017) ├┤ Rz(1.5608) ├\n",
              "     └─────────────┘└────────────┘\n",
              "c: 3/═════════════════════════════\n",
              "                                  </pre>"
            ],
            "text/plain": [
              "     ┌─────────────┐┌────────────┐\n",
              "q_0: ┤ Ry(0.10017) ├┤ Rz(1.5608) ├\n",
              "     ├─────────────┤├────────────┤\n",
              "q_1: ┤ Ry(0.10017) ├┤ Rz(1.5608) ├\n",
              "     ├─────────────┤├────────────┤\n",
              "q_2: ┤ Ry(0.10017) ├┤ Rz(1.5608) ├\n",
              "     └─────────────┘└────────────┘\n",
              "c: 3/═════════════════════════════\n",
              "                                  "
            ]
          },
          "metadata": {},
          "execution_count": 371
        }
      ]
    },
    {
      "cell_type": "code",
      "metadata": {
        "id": "ceyl8Idwy57C"
      },
      "source": [
        "#イジング相互作用のゲートを作用させる。\n",
        "def ising_circ(qc,nqubits):\n",
        "  for i in range(nqubits):\n",
        "    seed =  i + 6\n",
        "    np.random.seed(seed)\n",
        "    qc.rx(2 * np.random.rand()*2*np.pi, i) \n",
        "    \n",
        "  for i in range(nqubits):\n",
        "    for j in range(i):\n",
        "      seed = i+j\n",
        "      np.random.seed(seed) #乱数をi+jに固定\n",
        "      qc.rzz(2 * np.random.rand()*2*np.pi, i,j) \n",
        "       \n",
        "  return qc"
      ],
      "execution_count": null,
      "outputs": []
    },
    {
      "cell_type": "code",
      "metadata": {
        "colab": {
          "base_uri": "https://localhost:8080/",
          "height": 287
        },
        "id": "ahzC0nxJxl05",
        "outputId": "4212e8e9-1fe7-4e94-8908-fe33e3aa7e1a"
      },
      "source": [
        "#イジング相互作用をかけたところまでの回路図\n",
        "qc = ising_circ(qc,nqubits)\n",
        "qc.draw()"
      ],
      "execution_count": null,
      "outputs": [
        {
          "output_type": "execute_result",
          "data": {
            "text/html": [
              "<pre style=\"word-wrap: normal;white-space: pre;background: #fff0;line-height: 1.1;font-family: &quot;Courier New&quot;,Courier,monospace\">     ┌─────────────┐┌────────────┐ ┌───────────┐                           »\n",
              "q_0: ┤ Ry(0.10017) ├┤ Rz(1.5608) ├─┤ Rx(11.22) ├──■────────────■───────────»\n",
              "     ├─────────────┤├────────────┤┌┴───────────┴┐ │ZZ(5.2405)  │           »\n",
              "q_1: ┤ Ry(0.10017) ├┤ Rz(1.5608) ├┤ Rx(0.95892) ├─■────────────┼───────────»\n",
              "     ├─────────────┤├────────────┤└┬────────────┤              │ZZ(5.4789) »\n",
              "q_2: ┤ Ry(0.10017) ├┤ Rz(1.5608) ├─┤ Rx(10.976) ├──────────────■───────────»\n",
              "     └─────────────┘└────────────┘ └────────────┘                          »\n",
              "c: 3/══════════════════════════════════════════════════════════════════════»\n",
              "                                                                           »\n",
              "«                  \n",
              "«q_0: ─────────────\n",
              "«                  \n",
              "«q_1: ─■───────────\n",
              "«      │ZZ(6.9215) \n",
              "«q_2: ─■───────────\n",
              "«                  \n",
              "«c: 3/═════════════\n",
              "«                  </pre>"
            ],
            "text/plain": [
              "     ┌─────────────┐┌────────────┐ ┌───────────┐                           »\n",
              "q_0: ┤ Ry(0.10017) ├┤ Rz(1.5608) ├─┤ Rx(11.22) ├──■────────────■───────────»\n",
              "     ├─────────────┤├────────────┤┌┴───────────┴┐ │ZZ(5.2405)  │           »\n",
              "q_1: ┤ Ry(0.10017) ├┤ Rz(1.5608) ├┤ Rx(0.95892) ├─■────────────┼───────────»\n",
              "     ├─────────────┤├────────────┤└┬────────────┤              │ZZ(5.4789) »\n",
              "q_2: ┤ Ry(0.10017) ├┤ Rz(1.5608) ├─┤ Rx(10.976) ├──────────────■───────────»\n",
              "     └─────────────┘└────────────┘ └────────────┘                          »\n",
              "c: 3/══════════════════════════════════════════════════════════════════════»\n",
              "                                                                           »\n",
              "«                  \n",
              "«q_0: ─────────────\n",
              "«                  \n",
              "«q_1: ─■───────────\n",
              "«      │ZZ(6.9215) \n",
              "«q_2: ─■───────────\n",
              "«                  \n",
              "«c: 3/═════════════\n",
              "«                  "
            ]
          },
          "metadata": {},
          "execution_count": 373
        }
      ]
    },
    {
      "cell_type": "code",
      "metadata": {
        "id": "WwJPyf_V52o7"
      },
      "source": [
        "#パラメータつきの回転ゲートを作用させる\n",
        "def rotation_circ(qc,theta,nqubits):\n",
        "  \n",
        "  #thetaはnquits*3個の成分をもつ1次元配列\n",
        "\n",
        "  for i in range(nqubits):\n",
        "    qc.rx(2 * theta[0+i*3]*2*np.pi, i)\n",
        "    qc.rz(2 * theta[1+ i * 3]*2*np.pi, i)\n",
        "    qc.rx(2 * theta[2 + i*3]*2*np.pi,i)\n",
        "     \n",
        "  return qc"
      ],
      "execution_count": null,
      "outputs": []
    },
    {
      "cell_type": "code",
      "metadata": {
        "colab": {
          "base_uri": "https://localhost:8080/",
          "height": 287
        },
        "id": "tNc1jNZm_HGK",
        "outputId": "1610149b-83d5-4315-8860-111d9b8a7b0e"
      },
      "source": [
        "#パラメータつきの回転ゲートをかけたところまでの回路図\n",
        "theta = np.ones(3*nqubits)\n",
        "qc = rotation_circ(qc,theta,nqubits)\n",
        "qc.draw()"
      ],
      "execution_count": null,
      "outputs": [
        {
          "output_type": "execute_result",
          "data": {
            "text/html": [
              "<pre style=\"word-wrap: normal;white-space: pre;background: #fff0;line-height: 1.1;font-family: &quot;Courier New&quot;,Courier,monospace\">     ┌─────────────┐┌────────────┐ ┌───────────┐                           »\n",
              "q_0: ┤ Ry(0.10017) ├┤ Rz(1.5608) ├─┤ Rx(11.22) ├──■────────────■───────────»\n",
              "     ├─────────────┤├────────────┤┌┴───────────┴┐ │ZZ(5.2405)  │           »\n",
              "q_1: ┤ Ry(0.10017) ├┤ Rz(1.5608) ├┤ Rx(0.95892) ├─■────────────┼───────────»\n",
              "     ├─────────────┤├────────────┤└┬────────────┤              │ZZ(5.4789) »\n",
              "q_2: ┤ Ry(0.10017) ├┤ Rz(1.5608) ├─┤ Rx(10.976) ├──────────────■───────────»\n",
              "     └─────────────┘└────────────┘ └────────────┘                          »\n",
              "c: 3/══════════════════════════════════════════════════════════════════════»\n",
              "                                                                           »\n",
              "«       ┌────────┐ ┌────────┐┌────────┐          \n",
              "«q_0: ──┤ Rx(4π) ├─┤ Rz(4π) ├┤ Rx(4π) ├──────────\n",
              "«       └────────┘ ├────────┤├────────┤┌────────┐\n",
              "«q_1: ─■───────────┤ Rx(4π) ├┤ Rz(4π) ├┤ Rx(4π) ├\n",
              "«      │ZZ(6.9215) ├────────┤├────────┤├────────┤\n",
              "«q_2: ─■───────────┤ Rx(4π) ├┤ Rz(4π) ├┤ Rx(4π) ├\n",
              "«                  └────────┘└────────┘└────────┘\n",
              "«c: 3/═══════════════════════════════════════════\n",
              "«                                                </pre>"
            ],
            "text/plain": [
              "     ┌─────────────┐┌────────────┐ ┌───────────┐                           »\n",
              "q_0: ┤ Ry(0.10017) ├┤ Rz(1.5608) ├─┤ Rx(11.22) ├──■────────────■───────────»\n",
              "     ├─────────────┤├────────────┤┌┴───────────┴┐ │ZZ(5.2405)  │           »\n",
              "q_1: ┤ Ry(0.10017) ├┤ Rz(1.5608) ├┤ Rx(0.95892) ├─■────────────┼───────────»\n",
              "     ├─────────────┤├────────────┤└┬────────────┤              │ZZ(5.4789) »\n",
              "q_2: ┤ Ry(0.10017) ├┤ Rz(1.5608) ├─┤ Rx(10.976) ├──────────────■───────────»\n",
              "     └─────────────┘└────────────┘ └────────────┘                          »\n",
              "c: 3/══════════════════════════════════════════════════════════════════════»\n",
              "                                                                           »\n",
              "«       ┌────────┐ ┌────────┐┌────────┐          \n",
              "«q_0: ──┤ Rx(4π) ├─┤ Rz(4π) ├┤ Rx(4π) ├──────────\n",
              "«       └────────┘ ├────────┤├────────┤┌────────┐\n",
              "«q_1: ─■───────────┤ Rx(4π) ├┤ Rz(4π) ├┤ Rx(4π) ├\n",
              "«      │ZZ(6.9215) ├────────┤├────────┤├────────┤\n",
              "«q_2: ─■───────────┤ Rx(4π) ├┤ Rz(4π) ├┤ Rx(4π) ├\n",
              "«                  └────────┘└────────┘└────────┘\n",
              "«c: 3/═══════════════════════════════════════════\n",
              "«                                                "
            ]
          },
          "metadata": {},
          "execution_count": 375
        }
      ]
    },
    {
      "cell_type": "code",
      "metadata": {
        "id": "m5sDRxqG_WUK"
      },
      "source": [
        "#測定の回路。\n",
        "def measure(qc):\n",
        "  qc.measure(np.arange(nqubits),np.arange(nqubits))\n",
        "  return qc"
      ],
      "execution_count": null,
      "outputs": []
    },
    {
      "cell_type": "code",
      "metadata": {
        "colab": {
          "base_uri": "https://localhost:8080/",
          "height": 287
        },
        "id": "3UbCNq8WBKqp",
        "outputId": "09a752c6-78b9-4405-bc8d-54a9ab333d6f"
      },
      "source": [
        "#測定までの回路図\n",
        "measure(qc)\n",
        "qc.draw()"
      ],
      "execution_count": null,
      "outputs": [
        {
          "output_type": "execute_result",
          "data": {
            "text/html": [
              "<pre style=\"word-wrap: normal;white-space: pre;background: #fff0;line-height: 1.1;font-family: &quot;Courier New&quot;,Courier,monospace\">     ┌─────────────┐┌────────────┐ ┌───────────┐                           »\n",
              "q_0: ┤ Ry(0.10017) ├┤ Rz(1.5608) ├─┤ Rx(11.22) ├──■────────────■───────────»\n",
              "     ├─────────────┤├────────────┤┌┴───────────┴┐ │ZZ(5.2405)  │           »\n",
              "q_1: ┤ Ry(0.10017) ├┤ Rz(1.5608) ├┤ Rx(0.95892) ├─■────────────┼───────────»\n",
              "     ├─────────────┤├────────────┤└┬────────────┤              │ZZ(5.4789) »\n",
              "q_2: ┤ Ry(0.10017) ├┤ Rz(1.5608) ├─┤ Rx(10.976) ├──────────────■───────────»\n",
              "     └─────────────┘└────────────┘ └────────────┘                          »\n",
              "c: 3/══════════════════════════════════════════════════════════════════════»\n",
              "                                                                           »\n",
              "«       ┌────────┐ ┌────────┐┌────────┐          ┌─┐      \n",
              "«q_0: ──┤ Rx(4π) ├─┤ Rz(4π) ├┤ Rx(4π) ├──────────┤M├──────\n",
              "«       └────────┘ ├────────┤├────────┤┌────────┐└╥┘┌─┐   \n",
              "«q_1: ─■───────────┤ Rx(4π) ├┤ Rz(4π) ├┤ Rx(4π) ├─╫─┤M├───\n",
              "«      │ZZ(6.9215) ├────────┤├────────┤├────────┤ ║ └╥┘┌─┐\n",
              "«q_2: ─■───────────┤ Rx(4π) ├┤ Rz(4π) ├┤ Rx(4π) ├─╫──╫─┤M├\n",
              "«                  └────────┘└────────┘└────────┘ ║  ║ └╥┘\n",
              "«c: 3/════════════════════════════════════════════╩══╩══╩═\n",
              "«                                                 0  1  2 </pre>"
            ],
            "text/plain": [
              "     ┌─────────────┐┌────────────┐ ┌───────────┐                           »\n",
              "q_0: ┤ Ry(0.10017) ├┤ Rz(1.5608) ├─┤ Rx(11.22) ├──■────────────■───────────»\n",
              "     ├─────────────┤├────────────┤┌┴───────────┴┐ │ZZ(5.2405)  │           »\n",
              "q_1: ┤ Ry(0.10017) ├┤ Rz(1.5608) ├┤ Rx(0.95892) ├─■────────────┼───────────»\n",
              "     ├─────────────┤├────────────┤└┬────────────┤              │ZZ(5.4789) »\n",
              "q_2: ┤ Ry(0.10017) ├┤ Rz(1.5608) ├─┤ Rx(10.976) ├──────────────■───────────»\n",
              "     └─────────────┘└────────────┘ └────────────┘                          »\n",
              "c: 3/══════════════════════════════════════════════════════════════════════»\n",
              "                                                                           »\n",
              "«       ┌────────┐ ┌────────┐┌────────┐          ┌─┐      \n",
              "«q_0: ──┤ Rx(4π) ├─┤ Rz(4π) ├┤ Rx(4π) ├──────────┤M├──────\n",
              "«       └────────┘ ├────────┤├────────┤┌────────┐└╥┘┌─┐   \n",
              "«q_1: ─■───────────┤ Rx(4π) ├┤ Rz(4π) ├┤ Rx(4π) ├─╫─┤M├───\n",
              "«      │ZZ(6.9215) ├────────┤├────────┤├────────┤ ║ └╥┘┌─┐\n",
              "«q_2: ─■───────────┤ Rx(4π) ├┤ Rz(4π) ├┤ Rx(4π) ├─╫──╫─┤M├\n",
              "«                  └────────┘└────────┘└────────┘ ║  ║ └╥┘\n",
              "«c: 3/════════════════════════════════════════════╩══╩══╩═\n",
              "«                                                 0  1  2 "
            ]
          },
          "metadata": {},
          "execution_count": 377
        }
      ]
    },
    {
      "cell_type": "code",
      "metadata": {
        "id": "1FW10nPvBVep"
      },
      "source": [
        "#全体の回路\n",
        "def qcl_circ(x,theta,nqubits):\n",
        "  #thetaは回路の深さ*3*nqubitsの成分をもつ1次元配列\n",
        "\n",
        "  qc = encoding_circ(x,nqubits)\n",
        "\n",
        "  p = len(theta)// (3 * nqubits) \n",
        "  for iter in range(p):\n",
        "    qc = ising_circ(qc,nqubits)\n",
        "    para = theta[iter*3*nqubits:(iter+1)*3*nqubits]\n",
        "    qc = rotation_circ(qc,para,nqubits)\n",
        "\n",
        "  qc = measure(qc)\n",
        "\n",
        "  return qc  \n"
      ],
      "execution_count": null,
      "outputs": []
    },
    {
      "cell_type": "code",
      "metadata": {
        "colab": {
          "base_uri": "https://localhost:8080/",
          "height": 557
        },
        "id": "RoR8imbREFDv",
        "outputId": "5c5990a2-77bb-4143-9835-bc1eb42be2a5"
      },
      "source": [
        "#深さpの全体の回路の図示\n",
        "p = 2\n",
        "nqubits = 3\n",
        "x=0.1\n",
        "theta = np.ones(3*p*nqubits)\n",
        "np.random.seed(10)\n",
        "theta = 2*np.pi*np.random.rand(3*p*nqubits)\n",
        "qc = qcl_circ(x,theta,nqubits)\n",
        "qc.draw()\n"
      ],
      "execution_count": null,
      "outputs": [
        {
          "output_type": "execute_result",
          "data": {
            "text/html": [
              "<pre style=\"word-wrap: normal;white-space: pre;background: #fff0;line-height: 1.1;font-family: &quot;Courier New&quot;,Courier,monospace\">     ┌─────────────┐┌────────────┐ ┌───────────┐                           »\n",
              "q_0: ┤ Ry(0.10017) ├┤ Rz(1.5608) ├─┤ Rx(11.22) ├──■────────────■───────────»\n",
              "     ├─────────────┤├────────────┤┌┴───────────┴┐ │ZZ(5.2405)  │           »\n",
              "q_1: ┤ Ry(0.10017) ├┤ Rz(1.5608) ├┤ Rx(0.95892) ├─■────────────┼───────────»\n",
              "     ├─────────────┤├────────────┤└┬────────────┤              │ZZ(5.4789) »\n",
              "q_2: ┤ Ry(0.10017) ├┤ Rz(1.5608) ├─┤ Rx(10.976) ├──────────────■───────────»\n",
              "     └─────────────┘└────────────┘ └────────────┘                          »\n",
              "c: 3/══════════════════════════════════════════════════════════════════════»\n",
              "                                                                           »\n",
              "«     ┌────────────┐┌────────────┐┌────────────┐┌───────────┐                »\n",
              "«q_0: ┤ Rx(60.901) ├┤ Rz(1.6385) ├┤ Rx(50.031) ├┤ Rx(11.22) ├────────────────»\n",
              "«     └────────────┘├────────────┤├────────────┤├───────────┴┐┌─────────────┐»\n",
              "«q_1: ─■────────────┤ Rx(59.123) ├┤ Rz(39.361) ├┤ Rx(17.749) ├┤ Rx(0.95892) ├»\n",
              "«      │ZZ(6.9215)  ├────────────┤├────────────┤├────────────┤└┬────────────┤»\n",
              "«q_2: ─■────────────┤ Rx(15.638) ├┤ Rz(60.049) ├┤ Rx(13.352) ├─┤ Rx(10.976) ├»\n",
              "«                   └────────────┘└────────────┘└────────────┘ └────────────┘»\n",
              "«c: 3/═══════════════════════════════════════════════════════════════════════»\n",
              "«                                                                            »\n",
              "«                               ┌───────────┐ ┌────────────┐┌────────────┐»\n",
              "«q_0: ─■────────────■───────────┤ Rx(6.975) ├─┤ Rz(54.114) ├┤ Rx(75.277) ├»\n",
              "«      │ZZ(5.2405)  │           └───────────┘┌┴────────────┤├────────────┤»\n",
              "«q_1: ─■────────────┼────────────■───────────┤ Rx(0.31174) ├┤ Rz(40.441) ├»\n",
              "«                   │ZZ(5.4789)  │ZZ(6.9215) └┬────────────┤├────────────┤»\n",
              "«q_2: ──────────────■────────────■────────────┤ Rx(48.363) ├┤ Rz(56.988) ├»\n",
              "«                                             └────────────┘└────────────┘»\n",
              "«c: 3/════════════════════════════════════════════════════════════════════»\n",
              "«                                                                         »\n",
              "«                   ┌─┐      \n",
              "«q_0: ──────────────┤M├──────\n",
              "«     ┌────────────┐└╥┘┌─┐   \n",
              "«q_1: ┤ Rx(64.162) ├─╫─┤M├───\n",
              "«     ├────────────┤ ║ └╥┘┌─┐\n",
              "«q_2: ┤ Rx(23.046) ├─╫──╫─┤M├\n",
              "«     └────────────┘ ║  ║ └╥┘\n",
              "«c: 3/═══════════════╩══╩══╩═\n",
              "«                    0  1  2 </pre>"
            ],
            "text/plain": [
              "     ┌─────────────┐┌────────────┐ ┌───────────┐                           »\n",
              "q_0: ┤ Ry(0.10017) ├┤ Rz(1.5608) ├─┤ Rx(11.22) ├──■────────────■───────────»\n",
              "     ├─────────────┤├────────────┤┌┴───────────┴┐ │ZZ(5.2405)  │           »\n",
              "q_1: ┤ Ry(0.10017) ├┤ Rz(1.5608) ├┤ Rx(0.95892) ├─■────────────┼───────────»\n",
              "     ├─────────────┤├────────────┤└┬────────────┤              │ZZ(5.4789) »\n",
              "q_2: ┤ Ry(0.10017) ├┤ Rz(1.5608) ├─┤ Rx(10.976) ├──────────────■───────────»\n",
              "     └─────────────┘└────────────┘ └────────────┘                          »\n",
              "c: 3/══════════════════════════════════════════════════════════════════════»\n",
              "                                                                           »\n",
              "«     ┌────────────┐┌────────────┐┌────────────┐┌───────────┐                »\n",
              "«q_0: ┤ Rx(60.901) ├┤ Rz(1.6385) ├┤ Rx(50.031) ├┤ Rx(11.22) ├────────────────»\n",
              "«     └────────────┘├────────────┤├────────────┤├───────────┴┐┌─────────────┐»\n",
              "«q_1: ─■────────────┤ Rx(59.123) ├┤ Rz(39.361) ├┤ Rx(17.749) ├┤ Rx(0.95892) ├»\n",
              "«      │ZZ(6.9215)  ├────────────┤├────────────┤├────────────┤└┬────────────┤»\n",
              "«q_2: ─■────────────┤ Rx(15.638) ├┤ Rz(60.049) ├┤ Rx(13.352) ├─┤ Rx(10.976) ├»\n",
              "«                   └────────────┘└────────────┘└────────────┘ └────────────┘»\n",
              "«c: 3/═══════════════════════════════════════════════════════════════════════»\n",
              "«                                                                            »\n",
              "«                               ┌───────────┐ ┌────────────┐┌────────────┐»\n",
              "«q_0: ─■────────────■───────────┤ Rx(6.975) ├─┤ Rz(54.114) ├┤ Rx(75.277) ├»\n",
              "«      │ZZ(5.2405)  │           └───────────┘┌┴────────────┤├────────────┤»\n",
              "«q_1: ─■────────────┼────────────■───────────┤ Rx(0.31174) ├┤ Rz(40.441) ├»\n",
              "«                   │ZZ(5.4789)  │ZZ(6.9215) └┬────────────┤├────────────┤»\n",
              "«q_2: ──────────────■────────────■────────────┤ Rx(48.363) ├┤ Rz(56.988) ├»\n",
              "«                                             └────────────┘└────────────┘»\n",
              "«c: 3/════════════════════════════════════════════════════════════════════»\n",
              "«                                                                         »\n",
              "«                   ┌─┐      \n",
              "«q_0: ──────────────┤M├──────\n",
              "«     ┌────────────┐└╥┘┌─┐   \n",
              "«q_1: ┤ Rx(64.162) ├─╫─┤M├───\n",
              "«     ├────────────┤ ║ └╥┘┌─┐\n",
              "«q_2: ┤ Rx(23.046) ├─╫──╫─┤M├\n",
              "«     └────────────┘ ║  ║ └╥┘\n",
              "«c: 3/═══════════════╩══╩══╩═\n",
              "«                    0  1  2 "
            ]
          },
          "metadata": {},
          "execution_count": 379
        }
      ]
    },
    {
      "cell_type": "code",
      "metadata": {
        "id": "HLPA8YukOPTS"
      },
      "source": [
        "#一つの測定結果が与えられたときの期待値を計算\n",
        "def weight(x,para,nqubits):\n",
        "  y = list(x)\n",
        "  y = np.array(y)\n",
        "  #qiskitのビット列の表示は逆順なので順番を直す\n",
        "  z = np.zeros(nqubits)\n",
        "  for i in range(nqubits):\n",
        "    z[nqubits-1 -i] = y[i]    \n",
        "\n",
        "  weight = 0 \n",
        "  for i in range(nqubits): \n",
        "    if z[i] == 0:\n",
        "       weight = weight + 1*para[i]\n",
        "    else:\n",
        "       weight = weight + (-1)*para[i]\n",
        "\n",
        "  return weight\n",
        "\n",
        "def compute_expectation(counts,para,nqubits):\n",
        "  sum = 0\n",
        "  sum_count = 0\n",
        "  for bitstring, count in counts.items():\n",
        "      w = weight(bitstring,para,nqubits)\n",
        "      sum += w * count\n",
        "      sum_count += count\n",
        "      \n",
        "  return sum/sum_count\n",
        "\n"
      ],
      "execution_count": null,
      "outputs": []
    },
    {
      "cell_type": "code",
      "metadata": {
        "id": "SUd2PlVJRhIt"
      },
      "source": [
        "#ある一つのデータに対してコスト関数を出す\n",
        "def cost_function(x_list,y_list,nqubits,p):\n",
        "\n",
        "  backend = Aer.get_backend('qasm_simulator')\n",
        "  backend.shots = 1000\n",
        "  \n",
        "  def execute_circ(opti_para):\n",
        "      theta = opti_para[0:3*p*nqubits]\n",
        "      para = opti_para[3*p*nqubits:]\n",
        "      cost = 0\n",
        "      for i in range(len(x_list)):\n",
        "        qc = qcl_circ(x_list[i],theta,nqubits)\n",
        "        counts = backend.run(qc, seed_simulator=10, \n",
        "                            shots=1000).result().get_counts()\n",
        "\n",
        "        y_pred = compute_expectation(counts,para,nqubits)\n",
        "\n",
        "        cost += (y_pred - y_list[i])**2\n",
        "      \n",
        "      return cost\n",
        "\n",
        "  \n",
        "  return execute_circ"
      ],
      "execution_count": null,
      "outputs": []
    },
    {
      "cell_type": "code",
      "metadata": {
        "colab": {
          "base_uri": "https://localhost:8080/"
        },
        "id": "th8eQlBaJBHw",
        "outputId": "a7c15631-ab2e-4a3e-999a-80d7eb1b050b"
      },
      "source": [
        "#勾配法を使わないで最適化した場合\n",
        "nqubits = 3\n",
        "p = 4\n",
        "theta = np.ones(3*p*nqubits+nqubits)\n",
        "np.random.seed(10)\n",
        "theta = np.random.rand(3*p*nqubits+nqubits)\n",
        "\n",
        "expectation = cost_function(x_train,y_train,nqubits,p)\n",
        "\n",
        "res = minimize(expectation, \n",
        "                      theta, \n",
        "                      method='COBYLA')\n",
        "\n",
        "#最適なパラメータをresに記憶\n",
        "res\n"
      ],
      "execution_count": null,
      "outputs": [
        {
          "output_type": "execute_result",
          "data": {
            "text/plain": [
              "     fun: 0.43481191180142553\n",
              "   maxcv: 0.0\n",
              " message: 'Optimization terminated successfully.'\n",
              "    nfev: 515\n",
              "  status: 1\n",
              " success: True\n",
              "       x: array([ 7.74878314e-01,  1.97140890e-02,  6.30311834e-01,  7.55401924e-01,\n",
              "        5.08682088e-01,  2.26826193e-01,  1.93617165e-01,  7.57515599e-01,\n",
              "        1.74732017e-01,  7.82280299e-02,  6.90014660e-01,  9.47408636e-01,\n",
              "        6.82416459e-03,  5.18444137e-01,  8.23465262e-01,  6.12934048e-01,\n",
              "        7.20147374e-01,  3.04368532e-01,  8.88660044e-01,  7.22913631e-01,\n",
              "        5.35971522e-01,  1.42638771e-01,  3.89110259e-01,  6.72768604e-01,\n",
              "        4.41520540e-01,  4.20872907e-01,  6.22362774e-01,  5.12886939e-01,\n",
              "        6.52577716e-01,  6.07296636e-01,  8.22164480e-01,  5.16394941e-01,\n",
              "        9.06072980e-01,  3.10349693e-01,  9.60248736e-02,  2.99673412e-01,\n",
              "       -2.63698571e-04,  3.20854472e+00,  2.30038481e+00])"
            ]
          },
          "metadata": {},
          "execution_count": 382
        }
      ]
    },
    {
      "cell_type": "code",
      "metadata": {
        "id": "KpvVEuV0MIE-"
      },
      "source": [
        "#予測結果を計算\n",
        "backend = Aer.get_backend('qasm_simulator')\n",
        "backend.shots = 1000\n",
        "x_list = np.arange(x_min, x_max, 0.02)\n",
        "y_list = np.zeros(len(x_list))\n",
        "theta = res.x[0:3*p*nqubits]\n",
        "for i in range(len(x_list)):\n",
        "  qc = qcl_circ(x_list[i],theta,nqubits)\n",
        "  counts = backend.run(qc, seed_simulator=10, \n",
        "                            shots=1000).result().get_counts()\n",
        "                         \n",
        "  para = res.x[3*p*nqubits:]\n",
        "  y_list[i] = compute_expectation(counts,para,nqubits)"
      ],
      "execution_count": null,
      "outputs": []
    },
    {
      "cell_type": "code",
      "metadata": {
        "colab": {
          "base_uri": "https://localhost:8080/",
          "height": 266
        },
        "id": "t-UgmNHwNKQ8",
        "outputId": "d0f6e486-00d4-4f44-ecda-06ef6b7611d2"
      },
      "source": [
        "#結果の図示\n",
        "# 教師データ\n",
        "plt.plot(x_train, y_train, \"o\", label='Teacher')\n",
        "\n",
        "# モデルの予測値\n",
        "plt.plot(x_list, y_list, label='Model Prediction')\n",
        "\n",
        "plt.legend()\n",
        "plt.show()"
      ],
      "execution_count": null,
      "outputs": [
        {
          "output_type": "display_data",
          "data": {
            "image/png": "[encoded data removed]",
            "text/plain": [
              "<Figure size 432x288 with 1 Axes>"
            ]
          },
          "metadata": {
            "needs_background": "light"
          }
        }
      ]
    },
    {
      "cell_type": "markdown",
      "metadata": {
        "id": "OFIYt0KtH-0x"
      },
      "source": [
        "実行結果(p=4,n=3)\n",
        "![ダウンロード (1).png](data:image/png;base64,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)"
      ]
    },
    {
      "cell_type": "markdown",
      "metadata": {
        "id": "99TKCKjUCwZB"
      },
      "source": [
        "##勾配法 \n",
        "測定物理量$H$は今の場合、$$ H = \\sum_i^{n} a_i Z_i $$\n",
        "である。予測値 $y_{pred}$ は\n",
        "$$ y_{pred} = <H(\\theta)>$$である。\n",
        "コスト関数は\n",
        "$$L = (<H(\\theta)>-y_{pred})^2 $$で定義される。\n",
        "パラメータの微分は\n",
        "$$ \\frac{\\partial L}{\\partial \\theta}= (<H(\\theta)>-y_{pred})\\left[\\left<H\\left(\\theta+\\frac{\\pi}{2}\\right)\\right>-\\left<H\\left(\\theta - \\frac{\\pi}{2}\\right)\\right>\\right] $$\n",
        "$$ \\frac{\\partial L}{\\partial a_i} = 2 (<H(\\theta)>-y_{pred}) <Z_j(\\theta)> $$\n",
        "で求めることができる。1つ目の勾配公式はパラメータシフトルールと言われている。\n",
        "勾配が分かれば勾配降下法を使ってパラメータ更新ができる。ただし、勾配法を使う場合1回の更新で2回パラメータシフトさせて量子回路を動かす必要がある。\n",
        "\n"
      ]
    },
    {
      "cell_type": "code",
      "metadata": {
        "colab": {
          "base_uri": "https://localhost:8080/"
        },
        "id": "KI-wpMUapN2Z",
        "outputId": "1a71e804-99f0-4798-c017-96ee82c5fdf8"
      },
      "source": [
        "#勾配法をつかったパラメータ更新で学習する場合\n",
        "nqubits = 3\n",
        "p = 4\n",
        "\n",
        "opti_para = np.ones(3*p*nqubits+nqubits)\n",
        "np.random.seed(10)\n",
        "opti_para = np.random.rand(3*p*nqubits+nqubits)\n",
        "\n",
        "backend = Aer.get_backend('qasm_simulator')\n",
        "backend.shots = 250\n",
        "\n",
        "num_iter = 40\n",
        "eta = 0.01\n",
        "\n",
        "theta = opti_para[0:3*p*nqubits]\n",
        "para = opti_para[3*p*nqubits:]\n",
        "cost_hist = []\n",
        "for i in range(num_iter):\n",
        "    cost = 0\n",
        "    for j in range(len(x_train)):\n",
        "        qc = qcl_circ(x_train[j],theta,nqubits)\n",
        "        counts = backend.run(qc, seed_simulator=10, \n",
        "                            shots=250).result().get_counts()\n",
        "\n",
        "        y_pred = compute_expectation(counts,para,nqubits)\n",
        "\n",
        "        diff = y_pred - y_train[j]\n",
        "\n",
        "        cost += diff **2\n",
        "\n",
        "        new_theta = np.zeros(3*p*nqubits)\n",
        "\n",
        "        for k in range(3*p*nqubits):\n",
        "\n",
        "          temp = np.zeros(3*p*nqubits)\n",
        "          temp[k] = np.pi / 2\n",
        "\n",
        "          qc_temp = qcl_circ(x_train[j],theta+temp,nqubits)\n",
        "          counts = backend.run(qc_temp, seed_simulator=10, \n",
        "                            shots=250).result().get_counts()\n",
        "\n",
        "          y_temp1 = compute_expectation(counts,para,nqubits)\n",
        "\n",
        "          qc_temp = qcl_circ(x_train[j],theta-temp,nqubits)\n",
        "          counts = backend.run(qc_temp, seed_simulator=10, \n",
        "                            shots=250).result().get_counts()\n",
        "          y_temp2 = compute_expectation(counts,para,nqubits)                    \n",
        "\n",
        "          gradient = diff * (y_temp1 - y_temp2)\n",
        "\n",
        "          new_theta[k] = theta[k] - eta * gradient\n",
        "        \n",
        "        new_para = np.zeros(nqubits)\n",
        "        for k in range(nqubits):\n",
        "          temp = np.zeros(nqubits)\n",
        "          temp[k] = 1\n",
        "          counts = backend.run(qc, seed_simulator=10, \n",
        "                            shots=250).result().get_counts()\n",
        "\n",
        "          y_temp3 = compute_expectation(counts,temp,nqubits)\n",
        "          gradient = 2 * diff *y_temp3\n",
        "          new_para[k] = para[k] - eta * gradient\n",
        "\n",
        "        theta = new_theta\n",
        "        para = new_para\n",
        "    cost_hist.append(cost)\n",
        "\n",
        "final_theta = theta\n",
        "final_para = para\n",
        "\n",
        "print(cost)"
      ],
      "execution_count": null,
      "outputs": [
        {
          "output_type": "stream",
          "text": [
            "0.6022872119457794\n"
          ],
          "name": "stdout"
        }
      ]
    },
    {
      "cell_type": "code",
      "metadata": {
        "colab": {
          "base_uri": "https://localhost:8080/",
          "height": 279
        },
        "id": "2fYnAM4zR83W",
        "outputId": "241be4eb-8e01-4da9-9b54-1ee1385268cf"
      },
      "source": [
        "plt.plot(cost_hist)\n",
        "plt.xlabel(\"iteration\")\n",
        "plt.ylabel(\"cost_function\")\n",
        "plt.show()"
      ],
      "execution_count": null,
      "outputs": [
        {
          "output_type": "display_data",
          "data": {
            "image/png": "[encoded data removed]",
            "text/plain": [
              "<Figure size 432x288 with 1 Axes>"
            ]
          },
          "metadata": {
            "needs_background": "light"
          }
        }
      ]
    },
    {
      "cell_type": "code",
      "metadata": {
        "id": "2HQX_wifyRdd"
      },
      "source": [
        "#予測結果を計算\n",
        "backend = Aer.get_backend('qasm_simulator')\n",
        "backend.shots = 1000\n",
        "x_list = np.arange(x_min, x_max, 0.02)\n",
        "y_list2 = np.zeros(len(x_list))\n",
        "\n",
        "for i in range(len(x_list)):\n",
        "  qc = qcl_circ(x_list[i],final_theta,nqubits)\n",
        "  counts = backend.run(qc, seed_simulator=10, \n",
        "                            shots=1000).result().get_counts()\n",
        "                         \n",
        "  y_list2[i] = compute_expectation(counts,final_para,nqubits)"
      ],
      "execution_count": null,
      "outputs": []
    },
    {
      "cell_type": "code",
      "metadata": {
        "colab": {
          "base_uri": "https://localhost:8080/",
          "height": 265
        },
        "id": "8TdloWd-z84W",
        "outputId": "99d3ddf6-8f98-420a-8a4a-5e29b4e67591"
      },
      "source": [
        "#結果の図示\n",
        "# 教師データ\n",
        "plt.plot(x_train, y_train, \"o\", label='Teacher')\n",
        "\n",
        "# モデルの予測値\n",
        "plt.plot(x_list, y_list2, label='Model Prediction')\n",
        "\n",
        "plt.legend()\n",
        "plt.show()"
      ],
      "execution_count": null,
      "outputs": [
        {
          "output_type": "display_data",
          "data": {
            "image/png": "[encoded data removed]",
            "text/plain": [
              "<Figure size 432x288 with 1 Axes>"
            ]
          },
          "metadata": {
            "needs_background": "light"
          }
        }
      ]
    },
    {
      "cell_type": "markdown",
      "metadata": {
        "id": "tFHxwCXpYxuR"
      },
      "source": [
        "nqubits= 3,p=4,num_iter=30のとき\n",
        "![ダウンロード (3).png](data:image/png;base64,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)"
      ]
    }
  ]
}
