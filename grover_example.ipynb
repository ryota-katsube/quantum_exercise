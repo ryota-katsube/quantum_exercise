{
  "nbformat": 4,
  "nbformat_minor": 0,
  "metadata": {
    "colab": {
      "name": "grover_example.ipynb",
      "provenance": []
    },
    "kernelspec": {
      "name": "python3",
      "display_name": "Python 3"
    },
    "language_info": {
      "name": "python"
    }
  },
  "cells": [
    {
      "cell_type": "code",
      "metadata": {
        "colab": {
          "base_uri": "https://localhost:8080/"
        },
        "id": "cPRspLPPNjYH",
        "outputId": "0652eeb6-0a25-4b30-813b-556620a9d547"
      },
      "source": [
        "!pip install qiskit #qiskitのインストール "
      ],
      "execution_count": null,
      "outputs": [
        {
          "output_type": "stream",
          "text": [
            "Requirement already satisfied: qiskit in /usr/local/lib/python3.7/dist-packages (0.29.0)\n",
            "Requirement already satisfied: qiskit-terra==0.18.1 in /usr/local/lib/python3.7/dist-packages (from qiskit) (0.18.1)\n",
            "Requirement already satisfied: qiskit-aqua==0.9.4 in /usr/local/lib/python3.7/dist-packages (from qiskit) (0.9.4)\n",
            "Requirement already satisfied: qiskit-ibmq-provider==0.16.0 in /usr/local/lib/python3.7/dist-packages (from qiskit) (0.16.0)\n",
            "Requirement already satisfied: qiskit-ignis==0.6.0 in /usr/local/lib/python3.7/dist-packages (from qiskit) (0.6.0)\n",
            "Requirement already satisfied: qiskit-aer==0.8.2 in /usr/local/lib/python3.7/dist-packages (from qiskit) (0.8.2)\n",
            "Requirement already satisfied: scipy>=1.0 in /usr/local/lib/python3.7/dist-packages (from qiskit-aer==0.8.2->qiskit) (1.4.1)\n",
            "Requirement already satisfied: pybind11>=2.6 in /usr/local/lib/python3.7/dist-packages (from qiskit-aer==0.8.2->qiskit) (2.7.1)\n",
            "Requirement already satisfied: numpy>=1.16.3 in /usr/local/lib/python3.7/dist-packages (from qiskit-aer==0.8.2->qiskit) (1.19.5)\n",
            "Requirement already satisfied: h5py<3.3.0 in /usr/local/lib/python3.7/dist-packages (from qiskit-aqua==0.9.4->qiskit) (3.1.0)\n",
            "Requirement already satisfied: setuptools>=40.1.0 in /usr/local/lib/python3.7/dist-packages (from qiskit-aqua==0.9.4->qiskit) (57.2.0)\n",
            "Requirement already satisfied: pandas in /usr/local/lib/python3.7/dist-packages (from qiskit-aqua==0.9.4->qiskit) (1.1.5)\n",
            "Requirement already satisfied: quandl in /usr/local/lib/python3.7/dist-packages (from qiskit-aqua==0.9.4->qiskit) (3.6.1)\n",
            "Requirement already satisfied: docplex>=2.21.207 in /usr/local/lib/python3.7/dist-packages (from qiskit-aqua==0.9.4->qiskit) (2.21.207)\n",
            "Requirement already satisfied: sympy>=1.3 in /usr/local/lib/python3.7/dist-packages (from qiskit-aqua==0.9.4->qiskit) (1.7.1)\n",
            "Requirement already satisfied: yfinance<0.1.63 in /usr/local/lib/python3.7/dist-packages (from qiskit-aqua==0.9.4->qiskit) (0.1.62)\n",
            "Requirement already satisfied: retworkx>=0.8.0 in /usr/local/lib/python3.7/dist-packages (from qiskit-aqua==0.9.4->qiskit) (0.9.0)\n",
            "Requirement already satisfied: psutil>=5 in /usr/local/lib/python3.7/dist-packages (from qiskit-aqua==0.9.4->qiskit) (5.4.8)\n",
            "Requirement already satisfied: fastdtw<=0.3.4 in /usr/local/lib/python3.7/dist-packages (from qiskit-aqua==0.9.4->qiskit) (0.3.4)\n",
            "Requirement already satisfied: dlx<=1.0.4 in /usr/local/lib/python3.7/dist-packages (from qiskit-aqua==0.9.4->qiskit) (1.0.4)\n",
            "Requirement already satisfied: scikit-learn>=0.20.0 in /usr/local/lib/python3.7/dist-packages (from qiskit-aqua==0.9.4->qiskit) (0.22.2.post1)\n",
            "Requirement already satisfied: websocket-client>=1.0.1 in /usr/local/lib/python3.7/dist-packages (from qiskit-ibmq-provider==0.16.0->qiskit) (1.2.1)\n",
            "Requirement already satisfied: python-dateutil>=2.8.0 in /usr/local/lib/python3.7/dist-packages (from qiskit-ibmq-provider==0.16.0->qiskit) (2.8.2)\n",
            "Requirement already satisfied: urllib3>=1.21.1 in /usr/local/lib/python3.7/dist-packages (from qiskit-ibmq-provider==0.16.0->qiskit) (1.24.3)\n",
            "Requirement already satisfied: requests>=2.19 in /usr/local/lib/python3.7/dist-packages (from qiskit-ibmq-provider==0.16.0->qiskit) (2.23.0)\n",
            "Requirement already satisfied: requests-ntlm>=1.1.0 in /usr/local/lib/python3.7/dist-packages (from qiskit-ibmq-provider==0.16.0->qiskit) (1.1.0)\n",
            "Requirement already satisfied: ply>=3.10 in /usr/local/lib/python3.7/dist-packages (from qiskit-terra==0.18.1->qiskit) (3.11)\n",
            "Requirement already satisfied: python-constraint>=1.4 in /usr/local/lib/python3.7/dist-packages (from qiskit-terra==0.18.1->qiskit) (1.4.0)\n",
            "Requirement already satisfied: symengine>0.7 in /usr/local/lib/python3.7/dist-packages (from qiskit-terra==0.18.1->qiskit) (0.7.2)\n",
            "Requirement already satisfied: fastjsonschema>=2.10 in /usr/local/lib/python3.7/dist-packages (from qiskit-terra==0.18.1->qiskit) (2.15.1)\n",
            "Requirement already satisfied: tweedledum<2.0,>=1.1 in /usr/local/lib/python3.7/dist-packages (from qiskit-terra==0.18.1->qiskit) (1.1.0)\n",
            "Requirement already satisfied: jsonschema>=2.6 in /usr/local/lib/python3.7/dist-packages (from qiskit-terra==0.18.1->qiskit) (2.6.0)\n",
            "Requirement already satisfied: dill>=0.3 in /usr/local/lib/python3.7/dist-packages (from qiskit-terra==0.18.1->qiskit) (0.3.4)\n",
            "Requirement already satisfied: six in /usr/local/lib/python3.7/dist-packages (from docplex>=2.21.207->qiskit-aqua==0.9.4->qiskit) (1.15.0)\n",
            "Requirement already satisfied: cached-property in /usr/local/lib/python3.7/dist-packages (from h5py<3.3.0->qiskit-aqua==0.9.4->qiskit) (1.5.2)\n",
            "Requirement already satisfied: idna<3,>=2.5 in /usr/local/lib/python3.7/dist-packages (from requests>=2.19->qiskit-ibmq-provider==0.16.0->qiskit) (2.10)\n",
            "Requirement already satisfied: chardet<4,>=3.0.2 in /usr/local/lib/python3.7/dist-packages (from requests>=2.19->qiskit-ibmq-provider==0.16.0->qiskit) (3.0.4)\n",
            "Requirement already satisfied: certifi>=2017.4.17 in /usr/local/lib/python3.7/dist-packages (from requests>=2.19->qiskit-ibmq-provider==0.16.0->qiskit) (2021.5.30)\n",
            "Requirement already satisfied: ntlm-auth>=1.0.2 in /usr/local/lib/python3.7/dist-packages (from requests-ntlm>=1.1.0->qiskit-ibmq-provider==0.16.0->qiskit) (1.5.0)\n",
            "Requirement already satisfied: cryptography>=1.3 in /usr/local/lib/python3.7/dist-packages (from requests-ntlm>=1.1.0->qiskit-ibmq-provider==0.16.0->qiskit) (3.4.7)\n",
            "Requirement already satisfied: cffi>=1.12 in /usr/local/lib/python3.7/dist-packages (from cryptography>=1.3->requests-ntlm>=1.1.0->qiskit-ibmq-provider==0.16.0->qiskit) (1.14.6)\n",
            "Requirement already satisfied: pycparser in /usr/local/lib/python3.7/dist-packages (from cffi>=1.12->cryptography>=1.3->requests-ntlm>=1.1.0->qiskit-ibmq-provider==0.16.0->qiskit) (2.20)\n",
            "Requirement already satisfied: joblib>=0.11 in /usr/local/lib/python3.7/dist-packages (from scikit-learn>=0.20.0->qiskit-aqua==0.9.4->qiskit) (1.0.1)\n",
            "Requirement already satisfied: mpmath>=0.19 in /usr/local/lib/python3.7/dist-packages (from sympy>=1.3->qiskit-aqua==0.9.4->qiskit) (1.2.1)\n",
            "Requirement already satisfied: multitasking>=0.0.7 in /usr/local/lib/python3.7/dist-packages (from yfinance<0.1.63->qiskit-aqua==0.9.4->qiskit) (0.0.9)\n",
            "Requirement already satisfied: lxml>=4.5.1 in /usr/local/lib/python3.7/dist-packages (from yfinance<0.1.63->qiskit-aqua==0.9.4->qiskit) (4.6.3)\n",
            "Requirement already satisfied: pytz>=2017.2 in /usr/local/lib/python3.7/dist-packages (from pandas->qiskit-aqua==0.9.4->qiskit) (2018.9)\n",
            "Requirement already satisfied: inflection>=0.3.1 in /usr/local/lib/python3.7/dist-packages (from quandl->qiskit-aqua==0.9.4->qiskit) (0.5.1)\n",
            "Requirement already satisfied: more-itertools in /usr/local/lib/python3.7/dist-packages (from quandl->qiskit-aqua==0.9.4->qiskit) (8.8.0)\n"
          ],
          "name": "stdout"
        }
      ]
    },
    {
      "cell_type": "code",
      "metadata": {
        "id": "tqgp16a-NqEf"
      },
      "source": [
        "#ライブラリのインポート\n",
        "import matplotlib.pyplot as plt\n",
        "import numpy as np\n",
        "from qiskit import Aer, assemble, transpile\n",
        "from qiskit import QuantumCircuit, ClassicalRegister, QuantumRegister\n",
        "from qiskit.providers.aer import QasmSimulator\n",
        "#from qiskit.providers.ibmq import least_busy\n",
        "from qiskit.visualization import plot_histogram"
      ],
      "execution_count": null,
      "outputs": []
    },
    {
      "cell_type": "markdown",
      "metadata": {
        "id": "tmANjf9VvDlx"
      },
      "source": [
        "$$ f(x,y)=(x ∨ y) ∧ (¬ x ∨ y) ∧ (¬x ∨ ¬ y) $$ の2-SAT問題を解くグローバーのアルゴリズムの実装例を以下に示す。この論理式を充足する解は $$ x = False , y = True$$のときのみである。\n"
      ]
    },
    {
      "cell_type": "code",
      "metadata": {
        "id": "Fe3Hz_h7Pe3J"
      },
      "source": [
        "#リテラルの値を記憶する量子ビットにアダマール変換を施す\n",
        "def Hadamard(qc):\n",
        "  for i in range(2):\n",
        "    qc.h(i)\n",
        "  return qc"
      ],
      "execution_count": null,
      "outputs": []
    },
    {
      "cell_type": "code",
      "metadata": {
        "id": "qCeX5ukqNtmr"
      },
      "source": [
        "#回路の初期化\n",
        "def initial_circuit():\n",
        "  qc = QuantumCircuit(6,2) #量子ビットは2変数、3つの節、符号反転で使う1量子ビットの合わせて6ビット使う。古典ビットは測定する量子ビットの数\n",
        "  qc = Hadamard(qc)\n",
        "  initial_state = [0,1]   # 初期状態を|1>と定義\n",
        "  qc.initialize(initial_state, 5) # 初期化操作を符号反転用の6番目の量子ビットに適用。\n",
        "  qc.h(5) # 6番目の量子は|->状態になる。\n",
        "  return qc"
      ],
      "execution_count": null,
      "outputs": []
    },
    {
      "cell_type": "code",
      "metadata": {
        "colab": {
          "base_uri": "https://localhost:8080/",
          "height": 242
        },
        "id": "XzfM9l3-QrEB",
        "outputId": "6f9e9227-6210-4544-b61d-cabdb600529d"
      },
      "source": [
        "circuit = initial_circuit()\n",
        "circuit.draw() #回路の図示"
      ],
      "execution_count": null,
      "outputs": [
        {
          "output_type": "execute_result",
          "data": {
            "text/html": [
              "<pre style=\"word-wrap: normal;white-space: pre;background: #fff0;line-height: 1.1;font-family: &quot;Courier New&quot;,Courier,monospace\">            ┌───┐            \n",
              "q_0: ───────┤ H ├────────────\n",
              "            ├───┤            \n",
              "q_1: ───────┤ H ├────────────\n",
              "            └───┘            \n",
              "q_2: ────────────────────────\n",
              "                             \n",
              "q_3: ────────────────────────\n",
              "                             \n",
              "q_4: ────────────────────────\n",
              "     ┌─────────────────┐┌───┐\n",
              "q_5: ┤ Initialize(0,1) ├┤ H ├\n",
              "     └─────────────────┘└───┘\n",
              "c: 2/════════════════════════\n",
              "                             </pre>"
            ],
            "text/plain": [
              "            ┌───┐            \n",
              "q_0: ───────┤ H ├────────────\n",
              "            ├───┤            \n",
              "q_1: ───────┤ H ├────────────\n",
              "            └───┘            \n",
              "q_2: ────────────────────────\n",
              "                             \n",
              "q_3: ────────────────────────\n",
              "                             \n",
              "q_4: ────────────────────────\n",
              "     ┌─────────────────┐┌───┐\n",
              "q_5: ┤ Initialize(0,1) ├┤ H ├\n",
              "     └─────────────────┘└───┘\n",
              "c: 2/════════════════════════\n",
              "                             "
            ]
          },
          "metadata": {
            "tags": []
          },
          "execution_count": 63
        }
      ]
    },
    {
      "cell_type": "code",
      "metadata": {
        "id": "2nRnpmuTQgyV"
      },
      "source": [
        "#オラクルのゲート\n",
        "\n",
        "def Oracle(qc):\n",
        "  #1つめの節\n",
        "    qc.x(0)\n",
        "    qc.x(1)\n",
        "    qc.mcx([0,1],2) \n",
        "    qc.x(0)\n",
        "    qc.x(1)\n",
        "  \n",
        "  #2つめの節\n",
        "    qc.x(1)\n",
        "    qc.mcx([0,1],3) \n",
        "    qc.x(1)\n",
        "  \n",
        "  #3つめの節\n",
        "    qc.mcx([0,1],4)\n",
        "\n",
        "  #3つの条件を同時に満たすかを判定\n",
        "    qc.x(2)\n",
        "    qc.x(3)\n",
        "    qc.x(4)\n",
        "    qc.mcx([2,3,4],5) \n",
        "    qc.x(2)\n",
        "    qc.x(3)\n",
        "    qc.x(4)\n",
        "\n",
        "  #補助ビットを0にリセットするために3番目の節から逆順にゲートをかける\n",
        "\n",
        "  #3つめの節\n",
        "    qc.mcx([0,1],4)\n",
        "  \n",
        "  #2つめの節\n",
        "    qc.x(1)\n",
        "    qc.mcx([0,1],3) \n",
        "    qc.x(1)\n",
        "\n",
        "  #1つめの節\n",
        "    qc.x(0)\n",
        "    qc.x(1)\n",
        "    qc.mcx([0,1],2) \n",
        "    qc.x(0)\n",
        "    qc.x(1)\n",
        "  \n",
        "    return qc"
      ],
      "execution_count": null,
      "outputs": []
    },
    {
      "cell_type": "code",
      "metadata": {
        "colab": {
          "base_uri": "https://localhost:8080/",
          "height": 467
        },
        "id": "gk2HNSdDTdAH",
        "outputId": "8e63095d-e366-4aec-a7c7-b5fcebea9258"
      },
      "source": [
        "circuit = Oracle(circuit)\n",
        "circuit.draw() #回路の図示"
      ],
      "execution_count": null,
      "outputs": [
        {
          "output_type": "execute_result",
          "data": {
            "text/html": [
              "<pre style=\"word-wrap: normal;white-space: pre;background: #fff0;line-height: 1.1;font-family: &quot;Courier New&quot;,Courier,monospace\">            ┌───┐       ┌───┐     ┌───┐                                        »\n",
              "q_0: ───────┤ H ├───────┤ X ├──■──┤ X ├───────■─────────■───────────────────■──»\n",
              "            ├───┤       ├───┤  │  ├───┤┌───┐  │  ┌───┐  │                   │  »\n",
              "q_1: ───────┤ H ├───────┤ X ├──■──┤ X ├┤ X ├──■──┤ X ├──■───────────────────■──»\n",
              "            └───┘       └───┘┌─┴─┐├───┤└───┘  │  └───┘  │            ┌───┐  │  »\n",
              "q_2: ────────────────────────┤ X ├┤ X ├───────┼─────────┼─────────■──┤ X ├──┼──»\n",
              "                             └───┘└───┘     ┌─┴─┐┌───┐  │         │  ├───┤  │  »\n",
              "q_3: ───────────────────────────────────────┤ X ├┤ X ├──┼─────────■──┤ X ├──┼──»\n",
              "                                            └───┘└───┘┌─┴─┐┌───┐  │  ├───┤┌─┴─┐»\n",
              "q_4: ─────────────────────────────────────────────────┤ X ├┤ X ├──■──┤ X ├┤ X ├»\n",
              "     ┌─────────────────┐┌───┐                         └───┘└───┘┌─┴─┐└───┘└───┘»\n",
              "q_5: ┤ Initialize(0,1) ├┤ H ├───────────────────────────────────┤ X ├──────────»\n",
              "     └─────────────────┘└───┘                                   └───┘          »\n",
              "c: 2/══════════════════════════════════════════════════════════════════════════»\n",
              "                                                                               »\n",
              "«               ┌───┐          ┌───┐\n",
              "«q_0: ───────■──┤ X ├───────■──┤ X ├\n",
              "«     ┌───┐  │  ├───┤┌───┐  │  ├───┤\n",
              "«q_1: ┤ X ├──■──┤ X ├┤ X ├──■──┤ X ├\n",
              "«     └───┘  │  └───┘└───┘┌─┴─┐└───┘\n",
              "«q_2: ───────┼────────────┤ X ├─────\n",
              "«          ┌─┴─┐          └───┘     \n",
              "«q_3: ─────┤ X ├────────────────────\n",
              "«          └───┘                    \n",
              "«q_4: ──────────────────────────────\n",
              "«                                   \n",
              "«q_5: ──────────────────────────────\n",
              "«                                   \n",
              "«c: 2/══════════════════════════════\n",
              "«                                   </pre>"
            ],
            "text/plain": [
              "            ┌───┐       ┌───┐     ┌───┐                                        »\n",
              "q_0: ───────┤ H ├───────┤ X ├──■──┤ X ├───────■─────────■───────────────────■──»\n",
              "            ├───┤       ├───┤  │  ├───┤┌───┐  │  ┌───┐  │                   │  »\n",
              "q_1: ───────┤ H ├───────┤ X ├──■──┤ X ├┤ X ├──■──┤ X ├──■───────────────────■──»\n",
              "            └───┘       └───┘┌─┴─┐├───┤└───┘  │  └───┘  │            ┌───┐  │  »\n",
              "q_2: ────────────────────────┤ X ├┤ X ├───────┼─────────┼─────────■──┤ X ├──┼──»\n",
              "                             └───┘└───┘     ┌─┴─┐┌───┐  │         │  ├───┤  │  »\n",
              "q_3: ───────────────────────────────────────┤ X ├┤ X ├──┼─────────■──┤ X ├──┼──»\n",
              "                                            └───┘└───┘┌─┴─┐┌───┐  │  ├───┤┌─┴─┐»\n",
              "q_4: ─────────────────────────────────────────────────┤ X ├┤ X ├──■──┤ X ├┤ X ├»\n",
              "     ┌─────────────────┐┌───┐                         └───┘└───┘┌─┴─┐└───┘└───┘»\n",
              "q_5: ┤ Initialize(0,1) ├┤ H ├───────────────────────────────────┤ X ├──────────»\n",
              "     └─────────────────┘└───┘                                   └───┘          »\n",
              "c: 2/══════════════════════════════════════════════════════════════════════════»\n",
              "                                                                               »\n",
              "«               ┌───┐          ┌───┐\n",
              "«q_0: ───────■──┤ X ├───────■──┤ X ├\n",
              "«     ┌───┐  │  ├───┤┌───┐  │  ├───┤\n",
              "«q_1: ┤ X ├──■──┤ X ├┤ X ├──■──┤ X ├\n",
              "«     └───┘  │  └───┘└───┘┌─┴─┐└───┘\n",
              "«q_2: ───────┼────────────┤ X ├─────\n",
              "«          ┌─┴─┐          └───┘     \n",
              "«q_3: ─────┤ X ├────────────────────\n",
              "«          └───┘                    \n",
              "«q_4: ──────────────────────────────\n",
              "«                                   \n",
              "«q_5: ──────────────────────────────\n",
              "«                                   \n",
              "«c: 2/══════════════════════════════\n",
              "«                                   "
            ]
          },
          "metadata": {
            "tags": []
          },
          "execution_count": 65
        }
      ]
    },
    {
      "cell_type": "code",
      "metadata": {
        "id": "uJ7bvahAS57d"
      },
      "source": [
        "#Diffuserの作成\n",
        "\n",
        "def Diffuser(qc):\n",
        "\n",
        "  qc = Hadamard(qc)\n",
        "\n",
        "  qc.x(0)\n",
        "  qc.x(1)\n",
        "  qc.mcx([0,1],5) \n",
        "  qc.x(0)\n",
        "  qc.x(1)\n",
        "\n",
        "  qc = Hadamard(qc)\n",
        "  \n",
        "  return qc"
      ],
      "execution_count": null,
      "outputs": []
    },
    {
      "cell_type": "code",
      "metadata": {
        "colab": {
          "base_uri": "https://localhost:8080/",
          "height": 467
        },
        "id": "XxQM605XTUwu",
        "outputId": "d81f9949-373b-4a2e-e3db-61be2c107cf9"
      },
      "source": [
        "circuit = Diffuser(circuit)\n",
        "circuit.draw() #回路の図示"
      ],
      "execution_count": null,
      "outputs": [
        {
          "output_type": "execute_result",
          "data": {
            "text/html": [
              "<pre style=\"word-wrap: normal;white-space: pre;background: #fff0;line-height: 1.1;font-family: &quot;Courier New&quot;,Courier,monospace\">            ┌───┐       ┌───┐     ┌───┐                                        »\n",
              "q_0: ───────┤ H ├───────┤ X ├──■──┤ X ├───────■─────────■───────────────────■──»\n",
              "            ├───┤       ├───┤  │  ├───┤┌───┐  │  ┌───┐  │                   │  »\n",
              "q_1: ───────┤ H ├───────┤ X ├──■──┤ X ├┤ X ├──■──┤ X ├──■───────────────────■──»\n",
              "            └───┘       └───┘┌─┴─┐├───┤└───┘  │  └───┘  │            ┌───┐  │  »\n",
              "q_2: ────────────────────────┤ X ├┤ X ├───────┼─────────┼─────────■──┤ X ├──┼──»\n",
              "                             └───┘└───┘     ┌─┴─┐┌───┐  │         │  ├───┤  │  »\n",
              "q_3: ───────────────────────────────────────┤ X ├┤ X ├──┼─────────■──┤ X ├──┼──»\n",
              "                                            └───┘└───┘┌─┴─┐┌───┐  │  ├───┤┌─┴─┐»\n",
              "q_4: ─────────────────────────────────────────────────┤ X ├┤ X ├──■──┤ X ├┤ X ├»\n",
              "     ┌─────────────────┐┌───┐                         └───┘└───┘┌─┴─┐└───┘└───┘»\n",
              "q_5: ┤ Initialize(0,1) ├┤ H ├───────────────────────────────────┤ X ├──────────»\n",
              "     └─────────────────┘└───┘                                   └───┘          »\n",
              "c: 2/══════════════════════════════════════════════════════════════════════════»\n",
              "                                                                               »\n",
              "«               ┌───┐          ┌───┐┌───┐┌───┐     ┌───┐┌───┐\n",
              "«q_0: ───────■──┤ X ├───────■──┤ X ├┤ H ├┤ X ├──■──┤ X ├┤ H ├\n",
              "«     ┌───┐  │  ├───┤┌───┐  │  ├───┤├───┤├───┤  │  ├───┤├───┤\n",
              "«q_1: ┤ X ├──■──┤ X ├┤ X ├──■──┤ X ├┤ H ├┤ X ├──■──┤ X ├┤ H ├\n",
              "«     └───┘  │  └───┘└───┘┌─┴─┐└───┘└───┘└───┘  │  └───┘└───┘\n",
              "«q_2: ───────┼────────────┤ X ├─────────────────┼────────────\n",
              "«          ┌─┴─┐          └───┘                 │            \n",
              "«q_3: ─────┤ X ├────────────────────────────────┼────────────\n",
              "«          └───┘                                │            \n",
              "«q_4: ──────────────────────────────────────────┼────────────\n",
              "«                                             ┌─┴─┐          \n",
              "«q_5: ────────────────────────────────────────┤ X ├──────────\n",
              "«                                             └───┘          \n",
              "«c: 2/═══════════════════════════════════════════════════════\n",
              "«                                                            </pre>"
            ],
            "text/plain": [
              "            ┌───┐       ┌───┐     ┌───┐                                        »\n",
              "q_0: ───────┤ H ├───────┤ X ├──■──┤ X ├───────■─────────■───────────────────■──»\n",
              "            ├───┤       ├───┤  │  ├───┤┌───┐  │  ┌───┐  │                   │  »\n",
              "q_1: ───────┤ H ├───────┤ X ├──■──┤ X ├┤ X ├──■──┤ X ├──■───────────────────■──»\n",
              "            └───┘       └───┘┌─┴─┐├───┤└───┘  │  └───┘  │            ┌───┐  │  »\n",
              "q_2: ────────────────────────┤ X ├┤ X ├───────┼─────────┼─────────■──┤ X ├──┼──»\n",
              "                             └───┘└───┘     ┌─┴─┐┌───┐  │         │  ├───┤  │  »\n",
              "q_3: ───────────────────────────────────────┤ X ├┤ X ├──┼─────────■──┤ X ├──┼──»\n",
              "                                            └───┘└───┘┌─┴─┐┌───┐  │  ├───┤┌─┴─┐»\n",
              "q_4: ─────────────────────────────────────────────────┤ X ├┤ X ├──■──┤ X ├┤ X ├»\n",
              "     ┌─────────────────┐┌───┐                         └───┘└───┘┌─┴─┐└───┘└───┘»\n",
              "q_5: ┤ Initialize(0,1) ├┤ H ├───────────────────────────────────┤ X ├──────────»\n",
              "     └─────────────────┘└───┘                                   └───┘          »\n",
              "c: 2/══════════════════════════════════════════════════════════════════════════»\n",
              "                                                                               »\n",
              "«               ┌───┐          ┌───┐┌───┐┌───┐     ┌───┐┌───┐\n",
              "«q_0: ───────■──┤ X ├───────■──┤ X ├┤ H ├┤ X ├──■──┤ X ├┤ H ├\n",
              "«     ┌───┐  │  ├───┤┌───┐  │  ├───┤├───┤├───┤  │  ├───┤├───┤\n",
              "«q_1: ┤ X ├──■──┤ X ├┤ X ├──■──┤ X ├┤ H ├┤ X ├──■──┤ X ├┤ H ├\n",
              "«     └───┘  │  └───┘└───┘┌─┴─┐└───┘└───┘└───┘  │  └───┘└───┘\n",
              "«q_2: ───────┼────────────┤ X ├─────────────────┼────────────\n",
              "«          ┌─┴─┐          └───┘                 │            \n",
              "«q_3: ─────┤ X ├────────────────────────────────┼────────────\n",
              "«          └───┘                                │            \n",
              "«q_4: ──────────────────────────────────────────┼────────────\n",
              "«                                             ┌─┴─┐          \n",
              "«q_5: ────────────────────────────────────────┤ X ├──────────\n",
              "«                                             └───┘          \n",
              "«c: 2/═══════════════════════════════════════════════════════\n",
              "«                                                            "
            ]
          },
          "metadata": {
            "tags": []
          },
          "execution_count": 67
        }
      ]
    },
    {
      "cell_type": "code",
      "metadata": {
        "id": "1FE0M-pCTvEM"
      },
      "source": [
        "#測定のコード\n",
        "\n",
        "def Measure(qc):\n",
        "  qc.measure([0,1],[0,1]) #0と1番目の量子ビットを測定し、その結果を0と1番目の古典ビットに記憶させる\n",
        "  simulator = QasmSimulator()\n",
        "  compiled_circuit = transpile(qc, simulator)\n",
        "  job = simulator.run(compiled_circuit, shots=5000) #shotsの数だけ測定\n",
        "  result = job.result()\n",
        "  counts = result.get_counts(qc)\n",
        "  return counts\n",
        "  "
      ],
      "execution_count": null,
      "outputs": []
    },
    {
      "cell_type": "code",
      "metadata": {
        "colab": {
          "base_uri": "https://localhost:8080/",
          "height": 331
        },
        "id": "aYkXeJN4UesN",
        "outputId": "57e94311-3e8d-423b-cea2-6ce067acc479"
      },
      "source": [
        " counts = Measure(circuit)\n",
        " plot_histogram(counts) #ヒストグラムで結果を表示\n",
        " # x = F , y = Tを表す"
      ],
      "execution_count": null,
      "outputs": [
        {
          "output_type": "execute_result",
          "data": {
            "image/png": "[encoded data removed]",
            "text/plain": [
              "<Figure size 504x360 with 1 Axes>"
            ]
          },
          "metadata": {
            "tags": []
          },
          "execution_count": 69
        }
      ]
    },
    {
      "cell_type": "code",
      "metadata": {
        "colab": {
          "base_uri": "https://localhost:8080/",
          "height": 467
        },
        "id": "vfO1jvAUXTXo",
        "outputId": "381c22e9-0b3f-4dce-c75c-92764f443bb6"
      },
      "source": [
        " circuit.draw()"
      ],
      "execution_count": null,
      "outputs": [
        {
          "output_type": "execute_result",
          "data": {
            "text/html": [
              "<pre style=\"word-wrap: normal;white-space: pre;background: #fff0;line-height: 1.1;font-family: &quot;Courier New&quot;,Courier,monospace\">            ┌───┐       ┌───┐     ┌───┐                                        »\n",
              "q_0: ───────┤ H ├───────┤ X ├──■──┤ X ├───────■─────────■───────────────────■──»\n",
              "            ├───┤       ├───┤  │  ├───┤┌───┐  │  ┌───┐  │                   │  »\n",
              "q_1: ───────┤ H ├───────┤ X ├──■──┤ X ├┤ X ├──■──┤ X ├──■───────────────────■──»\n",
              "            └───┘       └───┘┌─┴─┐├───┤└───┘  │  └───┘  │            ┌───┐  │  »\n",
              "q_2: ────────────────────────┤ X ├┤ X ├───────┼─────────┼─────────■──┤ X ├──┼──»\n",
              "                             └───┘└───┘     ┌─┴─┐┌───┐  │         │  ├───┤  │  »\n",
              "q_3: ───────────────────────────────────────┤ X ├┤ X ├──┼─────────■──┤ X ├──┼──»\n",
              "                                            └───┘└───┘┌─┴─┐┌───┐  │  ├───┤┌─┴─┐»\n",
              "q_4: ─────────────────────────────────────────────────┤ X ├┤ X ├──■──┤ X ├┤ X ├»\n",
              "     ┌─────────────────┐┌───┐                         └───┘└───┘┌─┴─┐└───┘└───┘»\n",
              "q_5: ┤ Initialize(0,1) ├┤ H ├───────────────────────────────────┤ X ├──────────»\n",
              "     └─────────────────┘└───┘                                   └───┘          »\n",
              "c: 2/══════════════════════════════════════════════════════════════════════════»\n",
              "                                                                               »\n",
              "«               ┌───┐          ┌───┐┌───┐┌───┐     ┌───┐┌───┐┌─┐   \n",
              "«q_0: ───────■──┤ X ├───────■──┤ X ├┤ H ├┤ X ├──■──┤ X ├┤ H ├┤M├───\n",
              "«     ┌───┐  │  ├───┤┌───┐  │  ├───┤├───┤├───┤  │  ├───┤├───┤└╥┘┌─┐\n",
              "«q_1: ┤ X ├──■──┤ X ├┤ X ├──■──┤ X ├┤ H ├┤ X ├──■──┤ X ├┤ H ├─╫─┤M├\n",
              "«     └───┘  │  └───┘└───┘┌─┴─┐└───┘└───┘└───┘  │  └───┘└───┘ ║ └╥┘\n",
              "«q_2: ───────┼────────────┤ X ├─────────────────┼─────────────╫──╫─\n",
              "«          ┌─┴─┐          └───┘                 │             ║  ║ \n",
              "«q_3: ─────┤ X ├────────────────────────────────┼─────────────╫──╫─\n",
              "«          └───┘                                │             ║  ║ \n",
              "«q_4: ──────────────────────────────────────────┼─────────────╫──╫─\n",
              "«                                             ┌─┴─┐           ║  ║ \n",
              "«q_5: ────────────────────────────────────────┤ X ├───────────╫──╫─\n",
              "«                                             └───┘           ║  ║ \n",
              "«c: 2/════════════════════════════════════════════════════════╩══╩═\n",
              "«                                                             0  1 </pre>"
            ],
            "text/plain": [
              "            ┌───┐       ┌───┐     ┌───┐                                        »\n",
              "q_0: ───────┤ H ├───────┤ X ├──■──┤ X ├───────■─────────■───────────────────■──»\n",
              "            ├───┤       ├───┤  │  ├───┤┌───┐  │  ┌───┐  │                   │  »\n",
              "q_1: ───────┤ H ├───────┤ X ├──■──┤ X ├┤ X ├──■──┤ X ├──■───────────────────■──»\n",
              "            └───┘       └───┘┌─┴─┐├───┤└───┘  │  └───┘  │            ┌───┐  │  »\n",
              "q_2: ────────────────────────┤ X ├┤ X ├───────┼─────────┼─────────■──┤ X ├──┼──»\n",
              "                             └───┘└───┘     ┌─┴─┐┌───┐  │         │  ├───┤  │  »\n",
              "q_3: ───────────────────────────────────────┤ X ├┤ X ├──┼─────────■──┤ X ├──┼──»\n",
              "                                            └───┘└───┘┌─┴─┐┌───┐  │  ├───┤┌─┴─┐»\n",
              "q_4: ─────────────────────────────────────────────────┤ X ├┤ X ├──■──┤ X ├┤ X ├»\n",
              "     ┌─────────────────┐┌───┐                         └───┘└───┘┌─┴─┐└───┘└───┘»\n",
              "q_5: ┤ Initialize(0,1) ├┤ H ├───────────────────────────────────┤ X ├──────────»\n",
              "     └─────────────────┘└───┘                                   └───┘          »\n",
              "c: 2/══════════════════════════════════════════════════════════════════════════»\n",
              "                                                                               »\n",
              "«               ┌───┐          ┌───┐┌───┐┌───┐     ┌───┐┌───┐┌─┐   \n",
              "«q_0: ───────■──┤ X ├───────■──┤ X ├┤ H ├┤ X ├──■──┤ X ├┤ H ├┤M├───\n",
              "«     ┌───┐  │  ├───┤┌───┐  │  ├───┤├───┤├───┤  │  ├───┤├───┤└╥┘┌─┐\n",
              "«q_1: ┤ X ├──■──┤ X ├┤ X ├──■──┤ X ├┤ H ├┤ X ├──■──┤ X ├┤ H ├─╫─┤M├\n",
              "«     └───┘  │  └───┘└───┘┌─┴─┐└───┘└───┘└───┘  │  └───┘└───┘ ║ └╥┘\n",
              "«q_2: ───────┼────────────┤ X ├─────────────────┼─────────────╫──╫─\n",
              "«          ┌─┴─┐          └───┘                 │             ║  ║ \n",
              "«q_3: ─────┤ X ├────────────────────────────────┼─────────────╫──╫─\n",
              "«          └───┘                                │             ║  ║ \n",
              "«q_4: ──────────────────────────────────────────┼─────────────╫──╫─\n",
              "«                                             ┌─┴─┐           ║  ║ \n",
              "«q_5: ────────────────────────────────────────┤ X ├───────────╫──╫─\n",
              "«                                             └───┘           ║  ║ \n",
              "«c: 2/════════════════════════════════════════════════════════╩══╩═\n",
              "«                                                             0  1 "
            ]
          },
          "metadata": {
            "tags": []
          },
          "execution_count": 70
        }
      ]
    },
    {
      "cell_type": "code",
      "metadata": {
        "colab": {
          "base_uri": "https://localhost:8080/",
          "height": 331
        },
        "id": "3rutgPZEZB8U",
        "outputId": "369d1b1f-3e3d-4366-a708-9819620bddf5"
      },
      "source": [
        "#初期状態の確率分布\n",
        "circuit = initial_circuit()\n",
        "\n",
        "counts = Measure(circuit)\n",
        "plot_histogram(counts)"
      ],
      "execution_count": null,
      "outputs": [
        {
          "output_type": "execute_result",
          "data": {
            "image/png": "[encoded data removed]",
            "text/plain": [
              "<Figure size 504x360 with 1 Axes>"
            ]
          },
          "metadata": {
            "tags": []
          },
          "execution_count": 71
        }
      ]
    },
    {
      "cell_type": "code",
      "metadata": {
        "colab": {
          "base_uri": "https://localhost:8080/",
          "height": 331
        },
        "id": "EA1WfT3fUn0j",
        "outputId": "cf446722-83e2-443b-fd05-dab7a47f0a85"
      },
      "source": [
        "n = 2 #オラクルとDiffuserの繰り返し回数 ２回\n",
        "circuit = initial_circuit()\n",
        "\n",
        "for i in range(n):\n",
        "   circuit = Oracle(circuit)\n",
        "   circuit = Diffuser(circuit)\n",
        "\n",
        "counts = Measure(circuit)\n",
        "plot_histogram(counts)"
      ],
      "execution_count": null,
      "outputs": [
        {
          "output_type": "execute_result",
          "data": {
            "image/png": "[encoded data removed]",
            "text/plain": [
              "<Figure size 504x360 with 1 Axes>"
            ]
          },
          "metadata": {
            "tags": []
          },
          "execution_count": 72
        }
      ]
    },
    {
      "cell_type": "code",
      "metadata": {
        "colab": {
          "base_uri": "https://localhost:8080/",
          "height": 331
        },
        "id": "M78AdCLSZR6p",
        "outputId": "eaa87e8a-5228-433c-a27e-fb07e0743bc2"
      },
      "source": [
        "n = 3 #オラクルとDiffuserの繰り返し回数 3回\n",
        "circuit = initial_circuit()\n",
        "\n",
        "for i in range(n):\n",
        "   circuit = Oracle(circuit)\n",
        "   circuit = Diffuser(circuit)\n",
        "\n",
        "counts = Measure(circuit)\n",
        "plot_histogram(counts)"
      ],
      "execution_count": null,
      "outputs": [
        {
          "output_type": "execute_result",
          "data": {
            "image/png": "[encoded data removed]",
            "text/plain": [
              "<Figure size 504x360 with 1 Axes>"
            ]
          },
          "metadata": {
            "tags": []
          },
          "execution_count": 73
        }
      ]
    },
    {
      "cell_type": "code",
      "metadata": {
        "colab": {
          "base_uri": "https://localhost:8080/",
          "height": 331
        },
        "id": "8YtFclwoZb4L",
        "outputId": "71f49832-277b-44f6-d444-8f5700a3b9c4"
      },
      "source": [
        "n = 4 #オラクルとDiffuserの繰り返し回数 4回\n",
        "circuit = initial_circuit()\n",
        "\n",
        "for i in range(n):\n",
        "   circuit = Oracle(circuit)\n",
        "   circuit = Diffuser(circuit)\n",
        "\n",
        "counts = Measure(circuit)\n",
        "plot_histogram(counts)\n",
        "\n",
        "#今回の場合は1回,4回,7回．．．のとき正しい答えを返す。"
      ],
      "execution_count": null,
      "outputs": [
        {
          "output_type": "execute_result",
          "data": {
            "image/png": "[encoded data removed]",
            "text/plain": [
              "<Figure size 504x360 with 1 Axes>"
            ]
          },
          "metadata": {
            "tags": []
          },
          "execution_count": 74
        }
      ]
    },
    {
      "cell_type": "code",
      "metadata": {
        "colab": {
          "base_uri": "https://localhost:8080/",
          "height": 1000
        },
        "id": "q9Q0cqMWY3zL",
        "outputId": "320cdb88-e1e9-4099-b6b7-2bf1e17de060"
      },
      "source": [
        " circuit.draw()"
      ],
      "execution_count": null,
      "outputs": [
        {
          "output_type": "execute_result",
          "data": {
            "text/html": [
              "<pre style=\"word-wrap: normal;white-space: pre;background: #fff0;line-height: 1.1;font-family: &quot;Courier New&quot;,Courier,monospace\">            ┌───┐       ┌───┐     ┌───┐                                        »\n",
              "q_0: ───────┤ H ├───────┤ X ├──■──┤ X ├───────■─────────■───────────────────■──»\n",
              "            ├───┤       ├───┤  │  ├───┤┌───┐  │  ┌───┐  │                   │  »\n",
              "q_1: ───────┤ H ├───────┤ X ├──■──┤ X ├┤ X ├──■──┤ X ├──■───────────────────■──»\n",
              "            └───┘       └───┘┌─┴─┐├───┤└───┘  │  └───┘  │            ┌───┐  │  »\n",
              "q_2: ────────────────────────┤ X ├┤ X ├───────┼─────────┼─────────■──┤ X ├──┼──»\n",
              "                             └───┘└───┘     ┌─┴─┐┌───┐  │         │  ├───┤  │  »\n",
              "q_3: ───────────────────────────────────────┤ X ├┤ X ├──┼─────────■──┤ X ├──┼──»\n",
              "                                            └───┘└───┘┌─┴─┐┌───┐  │  ├───┤┌─┴─┐»\n",
              "q_4: ─────────────────────────────────────────────────┤ X ├┤ X ├──■──┤ X ├┤ X ├»\n",
              "     ┌─────────────────┐┌───┐                         └───┘└───┘┌─┴─┐└───┘└───┘»\n",
              "q_5: ┤ Initialize(0,1) ├┤ H ├───────────────────────────────────┤ X ├──────────»\n",
              "     └─────────────────┘└───┘                                   └───┘          »\n",
              "c: 2/══════════════════════════════════════════════════════════════════════════»\n",
              "                                                                               »\n",
              "«               ┌───┐          ┌───┐┌───┐┌───┐     ┌───┐┌───┐┌───┐     ┌───┐»\n",
              "«q_0: ───────■──┤ X ├───────■──┤ X ├┤ H ├┤ X ├──■──┤ X ├┤ H ├┤ X ├──■──┤ X ├»\n",
              "«     ┌───┐  │  ├───┤┌───┐  │  ├───┤├───┤├───┤  │  ├───┤├───┤├───┤  │  ├───┤»\n",
              "«q_1: ┤ X ├──■──┤ X ├┤ X ├──■──┤ X ├┤ H ├┤ X ├──■──┤ X ├┤ H ├┤ X ├──■──┤ X ├»\n",
              "«     └───┘  │  └───┘└───┘┌─┴─┐└───┘└───┘└───┘  │  └───┘└───┘└───┘┌─┴─┐├───┤»\n",
              "«q_2: ───────┼────────────┤ X ├─────────────────┼─────────────────┤ X ├┤ X ├»\n",
              "«          ┌─┴─┐          └───┘                 │                 └───┘└───┘»\n",
              "«q_3: ─────┤ X ├────────────────────────────────┼───────────────────────────»\n",
              "«          └───┘                                │                           »\n",
              "«q_4: ──────────────────────────────────────────┼───────────────────────────»\n",
              "«                                             ┌─┴─┐                         »\n",
              "«q_5: ────────────────────────────────────────┤ X ├─────────────────────────»\n",
              "«                                             └───┘                         »\n",
              "«c: 2/══════════════════════════════════════════════════════════════════════»\n",
              "«                                                                           »\n",
              "«                                                       ┌───┐          ┌───┐»\n",
              "«q_0: ───────■─────────■───────────────────■─────────■──┤ X ├───────■──┤ X ├»\n",
              "«     ┌───┐  │  ┌───┐  │                   │  ┌───┐  │  ├───┤┌───┐  │  ├───┤»\n",
              "«q_1: ┤ X ├──■──┤ X ├──■───────────────────■──┤ X ├──■──┤ X ├┤ X ├──■──┤ X ├»\n",
              "«     └───┘  │  └───┘  │            ┌───┐  │  └───┘  │  └───┘└───┘┌─┴─┐└───┘»\n",
              "«q_2: ───────┼─────────┼─────────■──┤ X ├──┼─────────┼────────────┤ X ├─────»\n",
              "«          ┌─┴─┐┌───┐  │         │  ├───┤  │       ┌─┴─┐          └───┘     »\n",
              "«q_3: ─────┤ X ├┤ X ├──┼─────────■──┤ X ├──┼───────┤ X ├────────────────────»\n",
              "«          └───┘└───┘┌─┴─┐┌───┐  │  ├───┤┌─┴─┐     └───┘                    »\n",
              "«q_4: ───────────────┤ X ├┤ X ├──■──┤ X ├┤ X ├──────────────────────────────»\n",
              "«                    └───┘└───┘┌─┴─┐└───┘└───┘                              »\n",
              "«q_5: ─────────────────────────┤ X ├────────────────────────────────────────»\n",
              "«                              └───┘                                        »\n",
              "«c: 2/══════════════════════════════════════════════════════════════════════»\n",
              "«                                                                           »\n",
              "«     ┌───┐┌───┐     ┌───┐┌───┐┌───┐     ┌───┐                              »\n",
              "«q_0: ┤ H ├┤ X ├──■──┤ X ├┤ H ├┤ X ├──■──┤ X ├───────■─────────■────────────»\n",
              "«     ├───┤├───┤  │  ├───┤├───┤├───┤  │  ├───┤┌───┐  │  ┌───┐  │            »\n",
              "«q_1: ┤ H ├┤ X ├──■──┤ X ├┤ H ├┤ X ├──■──┤ X ├┤ X ├──■──┤ X ├──■────────────»\n",
              "«     └───┘└───┘  │  └───┘└───┘└───┘┌─┴─┐├───┤└───┘  │  └───┘  │            »\n",
              "«q_2: ────────────┼─────────────────┤ X ├┤ X ├───────┼─────────┼─────────■──»\n",
              "«                 │                 └───┘└───┘     ┌─┴─┐┌───┐  │         │  »\n",
              "«q_3: ────────────┼────────────────────────────────┤ X ├┤ X ├──┼─────────■──»\n",
              "«                 │                                └───┘└───┘┌─┴─┐┌───┐  │  »\n",
              "«q_4: ────────────┼──────────────────────────────────────────┤ X ├┤ X ├──■──»\n",
              "«               ┌─┴─┐                                        └───┘└───┘┌─┴─┐»\n",
              "«q_5: ──────────┤ X ├──────────────────────────────────────────────────┤ X ├»\n",
              "«               └───┘                                                  └───┘»\n",
              "«c: 2/══════════════════════════════════════════════════════════════════════»\n",
              "«                                                                           »\n",
              "«                         ┌───┐          ┌───┐┌───┐┌───┐     ┌───┐┌───┐┌───┐»\n",
              "«q_0: ───────■─────────■──┤ X ├───────■──┤ X ├┤ H ├┤ X ├──■──┤ X ├┤ H ├┤ X ├»\n",
              "«            │  ┌───┐  │  ├───┤┌───┐  │  ├───┤├───┤├───┤  │  ├───┤├───┤├───┤»\n",
              "«q_1: ───────■──┤ X ├──■──┤ X ├┤ X ├──■──┤ X ├┤ H ├┤ X ├──■──┤ X ├┤ H ├┤ X ├»\n",
              "«     ┌───┐  │  └───┘  │  └───┘└───┘┌─┴─┐└───┘└───┘└───┘  │  └───┘└───┘└───┘»\n",
              "«q_2: ┤ X ├──┼─────────┼────────────┤ X ├─────────────────┼─────────────────»\n",
              "«     ├───┤  │       ┌─┴─┐          └───┘                 │                 »\n",
              "«q_3: ┤ X ├──┼───────┤ X ├────────────────────────────────┼─────────────────»\n",
              "«     ├───┤┌─┴─┐     └───┘                                │                 »\n",
              "«q_4: ┤ X ├┤ X ├──────────────────────────────────────────┼─────────────────»\n",
              "«     └───┘└───┘                                        ┌─┴─┐               »\n",
              "«q_5: ──────────────────────────────────────────────────┤ X ├───────────────»\n",
              "«                                                       └───┘               »\n",
              "«c: 2/══════════════════════════════════════════════════════════════════════»\n",
              "«                                                                           »\n",
              "«          ┌───┐                                                  ┌───┐     »\n",
              "«q_0: ──■──┤ X ├───────■─────────■───────────────────■─────────■──┤ X ├─────»\n",
              "«       │  ├───┤┌───┐  │  ┌───┐  │                   │  ┌───┐  │  ├───┤┌───┐»\n",
              "«q_1: ──■──┤ X ├┤ X ├──■──┤ X ├──■───────────────────■──┤ X ├──■──┤ X ├┤ X ├»\n",
              "«     ┌─┴─┐├───┤└───┘  │  └───┘  │            ┌───┐  │  └───┘  │  └───┘└───┘»\n",
              "«q_2: ┤ X ├┤ X ├───────┼─────────┼─────────■──┤ X ├──┼─────────┼────────────»\n",
              "«     └───┘└───┘     ┌─┴─┐┌───┐  │         │  ├───┤  │       ┌─┴─┐          »\n",
              "«q_3: ───────────────┤ X ├┤ X ├──┼─────────■──┤ X ├──┼───────┤ X ├──────────»\n",
              "«                    └───┘└───┘┌─┴─┐┌───┐  │  ├───┤┌─┴─┐     └───┘          »\n",
              "«q_4: ─────────────────────────┤ X ├┤ X ├──■──┤ X ├┤ X ├────────────────────»\n",
              "«                              └───┘└───┘┌─┴─┐└───┘└───┘                    »\n",
              "«q_5: ───────────────────────────────────┤ X ├──────────────────────────────»\n",
              "«                                        └───┘                              »\n",
              "«c: 2/══════════════════════════════════════════════════════════════════════»\n",
              "«                                                                           »\n",
              "«          ┌───┐┌───┐┌───┐     ┌───┐┌───┐┌─┐   \n",
              "«q_0: ──■──┤ X ├┤ H ├┤ X ├──■──┤ X ├┤ H ├┤M├───\n",
              "«       │  ├───┤├───┤├───┤  │  ├───┤├───┤└╥┘┌─┐\n",
              "«q_1: ──■──┤ X ├┤ H ├┤ X ├──■──┤ X ├┤ H ├─╫─┤M├\n",
              "«     ┌─┴─┐└───┘└───┘└───┘  │  └───┘└───┘ ║ └╥┘\n",
              "«q_2: ┤ X ├─────────────────┼─────────────╫──╫─\n",
              "«     └───┘                 │             ║  ║ \n",
              "«q_3: ──────────────────────┼─────────────╫──╫─\n",
              "«                           │             ║  ║ \n",
              "«q_4: ──────────────────────┼─────────────╫──╫─\n",
              "«                         ┌─┴─┐           ║  ║ \n",
              "«q_5: ────────────────────┤ X ├───────────╫──╫─\n",
              "«                         └───┘           ║  ║ \n",
              "«c: 2/════════════════════════════════════╩══╩═\n",
              "«                                         0  1 </pre>"
            ],
            "text/plain": [
              "            ┌───┐       ┌───┐     ┌───┐                                        »\n",
              "q_0: ───────┤ H ├───────┤ X ├──■──┤ X ├───────■─────────■───────────────────■──»\n",
              "            ├───┤       ├───┤  │  ├───┤┌───┐  │  ┌───┐  │                   │  »\n",
              "q_1: ───────┤ H ├───────┤ X ├──■──┤ X ├┤ X ├──■──┤ X ├──■───────────────────■──»\n",
              "            └───┘       └───┘┌─┴─┐├───┤└───┘  │  └───┘  │            ┌───┐  │  »\n",
              "q_2: ────────────────────────┤ X ├┤ X ├───────┼─────────┼─────────■──┤ X ├──┼──»\n",
              "                             └───┘└───┘     ┌─┴─┐┌───┐  │         │  ├───┤  │  »\n",
              "q_3: ───────────────────────────────────────┤ X ├┤ X ├──┼─────────■──┤ X ├──┼──»\n",
              "                                            └───┘└───┘┌─┴─┐┌───┐  │  ├───┤┌─┴─┐»\n",
              "q_4: ─────────────────────────────────────────────────┤ X ├┤ X ├──■──┤ X ├┤ X ├»\n",
              "     ┌─────────────────┐┌───┐                         └───┘└───┘┌─┴─┐└───┘└───┘»\n",
              "q_5: ┤ Initialize(0,1) ├┤ H ├───────────────────────────────────┤ X ├──────────»\n",
              "     └─────────────────┘└───┘                                   └───┘          »\n",
              "c: 2/══════════════════════════════════════════════════════════════════════════»\n",
              "                                                                               »\n",
              "«               ┌───┐          ┌───┐┌───┐┌───┐     ┌───┐┌───┐┌───┐     ┌───┐»\n",
              "«q_0: ───────■──┤ X ├───────■──┤ X ├┤ H ├┤ X ├──■──┤ X ├┤ H ├┤ X ├──■──┤ X ├»\n",
              "«     ┌───┐  │  ├───┤┌───┐  │  ├───┤├───┤├───┤  │  ├───┤├───┤├───┤  │  ├───┤»\n",
              "«q_1: ┤ X ├──■──┤ X ├┤ X ├──■──┤ X ├┤ H ├┤ X ├──■──┤ X ├┤ H ├┤ X ├──■──┤ X ├»\n",
              "«     └───┘  │  └───┘└───┘┌─┴─┐└───┘└───┘└───┘  │  └───┘└───┘└───┘┌─┴─┐├───┤»\n",
              "«q_2: ───────┼────────────┤ X ├─────────────────┼─────────────────┤ X ├┤ X ├»\n",
              "«          ┌─┴─┐          └───┘                 │                 └───┘└───┘»\n",
              "«q_3: ─────┤ X ├────────────────────────────────┼───────────────────────────»\n",
              "«          └───┘                                │                           »\n",
              "«q_4: ──────────────────────────────────────────┼───────────────────────────»\n",
              "«                                             ┌─┴─┐                         »\n",
              "«q_5: ────────────────────────────────────────┤ X ├─────────────────────────»\n",
              "«                                             └───┘                         »\n",
              "«c: 2/══════════════════════════════════════════════════════════════════════»\n",
              "«                                                                           »\n",
              "«                                                       ┌───┐          ┌───┐»\n",
              "«q_0: ───────■─────────■───────────────────■─────────■──┤ X ├───────■──┤ X ├»\n",
              "«     ┌───┐  │  ┌───┐  │                   │  ┌───┐  │  ├───┤┌───┐  │  ├───┤»\n",
              "«q_1: ┤ X ├──■──┤ X ├──■───────────────────■──┤ X ├──■──┤ X ├┤ X ├──■──┤ X ├»\n",
              "«     └───┘  │  └───┘  │            ┌───┐  │  └───┘  │  └───┘└───┘┌─┴─┐└───┘»\n",
              "«q_2: ───────┼─────────┼─────────■──┤ X ├──┼─────────┼────────────┤ X ├─────»\n",
              "«          ┌─┴─┐┌───┐  │         │  ├───┤  │       ┌─┴─┐          └───┘     »\n",
              "«q_3: ─────┤ X ├┤ X ├──┼─────────■──┤ X ├──┼───────┤ X ├────────────────────»\n",
              "«          └───┘└───┘┌─┴─┐┌───┐  │  ├───┤┌─┴─┐     └───┘                    »\n",
              "«q_4: ───────────────┤ X ├┤ X ├──■──┤ X ├┤ X ├──────────────────────────────»\n",
              "«                    └───┘└───┘┌─┴─┐└───┘└───┘                              »\n",
              "«q_5: ─────────────────────────┤ X ├────────────────────────────────────────»\n",
              "«                              └───┘                                        »\n",
              "«c: 2/══════════════════════════════════════════════════════════════════════»\n",
              "«                                                                           »\n",
              "«     ┌───┐┌───┐     ┌───┐┌───┐┌───┐     ┌───┐                              »\n",
              "«q_0: ┤ H ├┤ X ├──■──┤ X ├┤ H ├┤ X ├──■──┤ X ├───────■─────────■────────────»\n",
              "«     ├───┤├───┤  │  ├───┤├───┤├───┤  │  ├───┤┌───┐  │  ┌───┐  │            »\n",
              "«q_1: ┤ H ├┤ X ├──■──┤ X ├┤ H ├┤ X ├──■──┤ X ├┤ X ├──■──┤ X ├──■────────────»\n",
              "«     └───┘└───┘  │  └───┘└───┘└───┘┌─┴─┐├───┤└───┘  │  └───┘  │            »\n",
              "«q_2: ────────────┼─────────────────┤ X ├┤ X ├───────┼─────────┼─────────■──»\n",
              "«                 │                 └───┘└───┘     ┌─┴─┐┌───┐  │         │  »\n",
              "«q_3: ────────────┼────────────────────────────────┤ X ├┤ X ├──┼─────────■──»\n",
              "«                 │                                └───┘└───┘┌─┴─┐┌───┐  │  »\n",
              "«q_4: ────────────┼──────────────────────────────────────────┤ X ├┤ X ├──■──»\n",
              "«               ┌─┴─┐                                        └───┘└───┘┌─┴─┐»\n",
              "«q_5: ──────────┤ X ├──────────────────────────────────────────────────┤ X ├»\n",
              "«               └───┘                                                  └───┘»\n",
              "«c: 2/══════════════════════════════════════════════════════════════════════»\n",
              "«                                                                           »\n",
              "«                         ┌───┐          ┌───┐┌───┐┌───┐     ┌───┐┌───┐┌───┐»\n",
              "«q_0: ───────■─────────■──┤ X ├───────■──┤ X ├┤ H ├┤ X ├──■──┤ X ├┤ H ├┤ X ├»\n",
              "«            │  ┌───┐  │  ├───┤┌───┐  │  ├───┤├───┤├───┤  │  ├───┤├───┤├───┤»\n",
              "«q_1: ───────■──┤ X ├──■──┤ X ├┤ X ├──■──┤ X ├┤ H ├┤ X ├──■──┤ X ├┤ H ├┤ X ├»\n",
              "«     ┌───┐  │  └───┘  │  └───┘└───┘┌─┴─┐└───┘└───┘└───┘  │  └───┘└───┘└───┘»\n",
              "«q_2: ┤ X ├──┼─────────┼────────────┤ X ├─────────────────┼─────────────────»\n",
              "«     ├───┤  │       ┌─┴─┐          └───┘                 │                 »\n",
              "«q_3: ┤ X ├──┼───────┤ X ├────────────────────────────────┼─────────────────»\n",
              "«     ├───┤┌─┴─┐     └───┘                                │                 »\n",
              "«q_4: ┤ X ├┤ X ├──────────────────────────────────────────┼─────────────────»\n",
              "«     └───┘└───┘                                        ┌─┴─┐               »\n",
              "«q_5: ──────────────────────────────────────────────────┤ X ├───────────────»\n",
              "«                                                       └───┘               »\n",
              "«c: 2/══════════════════════════════════════════════════════════════════════»\n",
              "«                                                                           »\n",
              "«          ┌───┐                                                  ┌───┐     »\n",
              "«q_0: ──■──┤ X ├───────■─────────■───────────────────■─────────■──┤ X ├─────»\n",
              "«       │  ├───┤┌───┐  │  ┌───┐  │                   │  ┌───┐  │  ├───┤┌───┐»\n",
              "«q_1: ──■──┤ X ├┤ X ├──■──┤ X ├──■───────────────────■──┤ X ├──■──┤ X ├┤ X ├»\n",
              "«     ┌─┴─┐├───┤└───┘  │  └───┘  │            ┌───┐  │  └───┘  │  └───┘└───┘»\n",
              "«q_2: ┤ X ├┤ X ├───────┼─────────┼─────────■──┤ X ├──┼─────────┼────────────»\n",
              "«     └───┘└───┘     ┌─┴─┐┌───┐  │         │  ├───┤  │       ┌─┴─┐          »\n",
              "«q_3: ───────────────┤ X ├┤ X ├──┼─────────■──┤ X ├──┼───────┤ X ├──────────»\n",
              "«                    └───┘└───┘┌─┴─┐┌───┐  │  ├───┤┌─┴─┐     └───┘          »\n",
              "«q_4: ─────────────────────────┤ X ├┤ X ├──■──┤ X ├┤ X ├────────────────────»\n",
              "«                              └───┘└───┘┌─┴─┐└───┘└───┘                    »\n",
              "«q_5: ───────────────────────────────────┤ X ├──────────────────────────────»\n",
              "«                                        └───┘                              »\n",
              "«c: 2/══════════════════════════════════════════════════════════════════════»\n",
              "«                                                                           »\n",
              "«          ┌───┐┌───┐┌───┐     ┌───┐┌───┐┌─┐   \n",
              "«q_0: ──■──┤ X ├┤ H ├┤ X ├──■──┤ X ├┤ H ├┤M├───\n",
              "«       │  ├───┤├───┤├───┤  │  ├───┤├───┤└╥┘┌─┐\n",
              "«q_1: ──■──┤ X ├┤ H ├┤ X ├──■──┤ X ├┤ H ├─╫─┤M├\n",
              "«     ┌─┴─┐└───┘└───┘└───┘  │  └───┘└───┘ ║ └╥┘\n",
              "«q_2: ┤ X ├─────────────────┼─────────────╫──╫─\n",
              "«     └───┘                 │             ║  ║ \n",
              "«q_3: ──────────────────────┼─────────────╫──╫─\n",
              "«                           │             ║  ║ \n",
              "«q_4: ──────────────────────┼─────────────╫──╫─\n",
              "«                         ┌─┴─┐           ║  ║ \n",
              "«q_5: ────────────────────┤ X ├───────────╫──╫─\n",
              "«                         └───┘           ║  ║ \n",
              "«c: 2/════════════════════════════════════╩══╩═\n",
              "«                                         0  1 "
            ]
          },
          "metadata": {
            "tags": []
          },
          "execution_count": 75
        }
      ]
    },
    {
      "cell_type": "code",
      "metadata": {
        "id": "Ce0OCbkNYzft"
      },
      "source": [
        ""
      ],
      "execution_count": null,
      "outputs": []
    }
  ]
}